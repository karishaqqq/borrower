{
  "metadata": {
    "ExecuteTimeLog": [
      {
        "duration": 716,
        "start_time": "2022-02-23T18:35:31.404Z"
      },
      {
        "duration": 49,
        "start_time": "2022-02-23T18:52:09.469Z"
      },
      {
        "duration": 18,
        "start_time": "2022-02-23T18:52:29.443Z"
      },
      {
        "duration": 10,
        "start_time": "2022-02-23T18:52:56.916Z"
      },
      {
        "duration": 12,
        "start_time": "2022-02-23T19:01:28.176Z"
      },
      {
        "duration": 11,
        "start_time": "2022-02-23T19:03:07.434Z"
      },
      {
        "duration": 11,
        "start_time": "2022-02-23T19:17:30.675Z"
      },
      {
        "duration": 12,
        "start_time": "2022-02-23T19:17:42.897Z"
      },
      {
        "duration": 725,
        "start_time": "2022-02-26T11:38:26.603Z"
      },
      {
        "duration": 69,
        "start_time": "2022-02-26T11:38:27.811Z"
      },
      {
        "duration": 28,
        "start_time": "2022-02-26T11:38:29.352Z"
      },
      {
        "duration": 16,
        "start_time": "2022-02-26T11:38:31.481Z"
      },
      {
        "duration": 3,
        "start_time": "2022-02-26T11:41:23.759Z"
      },
      {
        "duration": 272,
        "start_time": "2022-02-26T12:01:57.968Z"
      },
      {
        "duration": 2,
        "start_time": "2022-02-26T12:02:10.797Z"
      },
      {
        "duration": 41,
        "start_time": "2022-02-26T12:02:11.397Z"
      },
      {
        "duration": 14,
        "start_time": "2022-02-26T12:02:12.061Z"
      },
      {
        "duration": 10,
        "start_time": "2022-02-26T12:02:12.885Z"
      },
      {
        "duration": 3,
        "start_time": "2022-02-26T12:02:14.877Z"
      },
      {
        "duration": 205,
        "start_time": "2022-02-26T12:02:16.860Z"
      },
      {
        "duration": 13,
        "start_time": "2022-02-26T12:03:23.918Z"
      },
      {
        "duration": 194,
        "start_time": "2022-02-26T13:12:47.699Z"
      },
      {
        "duration": 18,
        "start_time": "2022-02-26T13:13:14.637Z"
      },
      {
        "duration": 5,
        "start_time": "2022-02-26T13:19:14.897Z"
      },
      {
        "duration": 7,
        "start_time": "2022-02-26T13:27:00.101Z"
      },
      {
        "duration": 7,
        "start_time": "2022-02-26T13:31:42.831Z"
      },
      {
        "duration": 6,
        "start_time": "2022-02-26T13:33:50.456Z"
      },
      {
        "duration": 7,
        "start_time": "2022-02-26T13:35:48.338Z"
      },
      {
        "duration": 6,
        "start_time": "2022-02-26T13:37:54.115Z"
      },
      {
        "duration": 7,
        "start_time": "2022-02-26T13:39:44.476Z"
      },
      {
        "duration": 6,
        "start_time": "2022-02-26T13:42:42.015Z"
      },
      {
        "duration": 5,
        "start_time": "2022-02-26T13:44:19.640Z"
      },
      {
        "duration": 7,
        "start_time": "2022-02-26T13:45:40.592Z"
      },
      {
        "duration": 631,
        "start_time": "2022-03-06T10:34:44.342Z"
      },
      {
        "duration": 53,
        "start_time": "2022-03-06T10:34:44.975Z"
      },
      {
        "duration": 21,
        "start_time": "2022-03-06T10:34:45.355Z"
      },
      {
        "duration": 13,
        "start_time": "2022-03-06T10:34:46.705Z"
      },
      {
        "duration": 3,
        "start_time": "2022-03-06T10:34:48.458Z"
      },
      {
        "duration": 14,
        "start_time": "2022-03-06T10:34:51.385Z"
      },
      {
        "duration": 21,
        "start_time": "2022-03-06T10:34:54.322Z"
      },
      {
        "duration": 6,
        "start_time": "2022-03-06T10:34:56.793Z"
      },
      {
        "duration": 6,
        "start_time": "2022-03-06T10:34:59.417Z"
      },
      {
        "duration": 8,
        "start_time": "2022-03-06T10:35:01.705Z"
      },
      {
        "duration": 5,
        "start_time": "2022-03-06T10:35:04.002Z"
      },
      {
        "duration": 7,
        "start_time": "2022-03-06T10:35:05.889Z"
      },
      {
        "duration": 6,
        "start_time": "2022-03-06T10:35:07.673Z"
      },
      {
        "duration": 7,
        "start_time": "2022-03-06T10:35:09.537Z"
      },
      {
        "duration": 8,
        "start_time": "2022-03-06T10:35:11.505Z"
      },
      {
        "duration": 5,
        "start_time": "2022-03-06T10:35:13.505Z"
      },
      {
        "duration": 8,
        "start_time": "2022-03-06T10:35:15.713Z"
      },
      {
        "duration": 4,
        "start_time": "2022-03-06T10:35:20.945Z"
      },
      {
        "duration": 7,
        "start_time": "2022-03-06T10:39:39.420Z"
      },
      {
        "duration": 276,
        "start_time": "2022-03-06T10:39:45.284Z"
      },
      {
        "duration": 187,
        "start_time": "2022-03-06T10:41:22.997Z"
      },
      {
        "duration": 324,
        "start_time": "2022-03-06T10:41:32.686Z"
      },
      {
        "duration": 2182,
        "start_time": "2022-03-06T10:42:41.662Z"
      },
      {
        "duration": 180,
        "start_time": "2022-03-06T10:43:02.246Z"
      },
      {
        "duration": 188,
        "start_time": "2022-03-06T10:45:26.441Z"
      },
      {
        "duration": 196,
        "start_time": "2022-03-06T10:55:46.327Z"
      },
      {
        "duration": 718,
        "start_time": "2022-03-10T05:56:34.736Z"
      },
      {
        "duration": 64,
        "start_time": "2022-03-10T05:56:35.735Z"
      },
      {
        "duration": 32,
        "start_time": "2022-03-10T05:56:38.356Z"
      },
      {
        "duration": 15,
        "start_time": "2022-03-10T05:56:43.812Z"
      },
      {
        "duration": 4,
        "start_time": "2022-03-10T05:57:31.340Z"
      },
      {
        "duration": 20,
        "start_time": "2022-03-10T06:57:26.966Z"
      },
      {
        "duration": 19,
        "start_time": "2022-03-10T07:01:27.911Z"
      },
      {
        "duration": 16,
        "start_time": "2022-03-10T07:01:33.263Z"
      },
      {
        "duration": 17,
        "start_time": "2022-03-10T07:01:53.760Z"
      },
      {
        "duration": 11,
        "start_time": "2022-03-10T07:02:50.311Z"
      },
      {
        "duration": 10,
        "start_time": "2022-03-10T07:03:03.896Z"
      },
      {
        "duration": 5,
        "start_time": "2022-03-10T07:03:16.751Z"
      },
      {
        "duration": 12,
        "start_time": "2022-03-10T07:03:19.455Z"
      },
      {
        "duration": 4,
        "start_time": "2022-03-10T07:04:41.848Z"
      },
      {
        "duration": 3,
        "start_time": "2022-03-10T07:05:05.397Z"
      },
      {
        "duration": 83,
        "start_time": "2022-03-10T07:05:05.406Z"
      },
      {
        "duration": 19,
        "start_time": "2022-03-10T07:05:05.492Z"
      },
      {
        "duration": 20,
        "start_time": "2022-03-10T07:05:05.513Z"
      },
      {
        "duration": 4,
        "start_time": "2022-03-10T07:05:05.537Z"
      },
      {
        "duration": 43,
        "start_time": "2022-03-10T07:05:05.543Z"
      },
      {
        "duration": 16,
        "start_time": "2022-03-10T07:05:05.588Z"
      },
      {
        "duration": 36,
        "start_time": "2022-03-10T07:05:05.606Z"
      },
      {
        "duration": 6,
        "start_time": "2022-03-10T07:05:05.646Z"
      },
      {
        "duration": 35,
        "start_time": "2022-03-10T07:05:05.654Z"
      },
      {
        "duration": 12,
        "start_time": "2022-03-10T07:05:05.691Z"
      },
      {
        "duration": 12,
        "start_time": "2022-03-10T07:05:05.705Z"
      },
      {
        "duration": 9,
        "start_time": "2022-03-10T07:05:05.720Z"
      },
      {
        "duration": 17,
        "start_time": "2022-03-10T07:05:05.731Z"
      },
      {
        "duration": 35,
        "start_time": "2022-03-10T07:05:05.751Z"
      },
      {
        "duration": 12,
        "start_time": "2022-03-10T07:05:05.788Z"
      },
      {
        "duration": 11,
        "start_time": "2022-03-10T07:05:05.802Z"
      },
      {
        "duration": 12,
        "start_time": "2022-03-10T07:05:05.815Z"
      },
      {
        "duration": 10,
        "start_time": "2022-03-10T07:05:05.829Z"
      },
      {
        "duration": 371,
        "start_time": "2022-03-10T07:05:05.841Z"
      },
      {
        "duration": 3,
        "start_time": "2022-03-10T07:05:16.536Z"
      },
      {
        "duration": 29,
        "start_time": "2022-03-10T07:17:58.800Z"
      },
      {
        "duration": 18,
        "start_time": "2022-03-10T07:18:17.184Z"
      },
      {
        "duration": 28,
        "start_time": "2022-03-10T07:22:01.003Z"
      },
      {
        "duration": 16,
        "start_time": "2022-03-10T07:22:36.747Z"
      },
      {
        "duration": 25,
        "start_time": "2022-03-10T07:22:57.500Z"
      },
      {
        "duration": 9,
        "start_time": "2022-03-10T07:37:02.428Z"
      },
      {
        "duration": 9,
        "start_time": "2022-03-10T07:37:20.819Z"
      },
      {
        "duration": 18,
        "start_time": "2022-03-10T07:54:52.295Z"
      },
      {
        "duration": 12,
        "start_time": "2022-03-10T07:55:25.637Z"
      },
      {
        "duration": 9,
        "start_time": "2022-03-10T07:55:53.565Z"
      },
      {
        "duration": 9,
        "start_time": "2022-03-10T07:58:53.007Z"
      },
      {
        "duration": 9,
        "start_time": "2022-03-10T07:59:15.535Z"
      },
      {
        "duration": 15,
        "start_time": "2022-03-10T08:04:47.937Z"
      },
      {
        "duration": 590,
        "start_time": "2022-03-10T09:17:06.115Z"
      },
      {
        "duration": 13,
        "start_time": "2022-03-10T09:19:05.587Z"
      },
      {
        "duration": 11,
        "start_time": "2022-03-10T09:26:51.983Z"
      },
      {
        "duration": 8,
        "start_time": "2022-03-10T09:27:01.383Z"
      },
      {
        "duration": 21,
        "start_time": "2022-03-10T09:29:06.999Z"
      },
      {
        "duration": 649,
        "start_time": "2022-03-10T09:35:33.124Z"
      },
      {
        "duration": 25,
        "start_time": "2022-03-10T09:35:46.940Z"
      },
      {
        "duration": 11,
        "start_time": "2022-03-10T09:36:19.692Z"
      },
      {
        "duration": 8,
        "start_time": "2022-03-10T09:36:21.643Z"
      },
      {
        "duration": 12,
        "start_time": "2022-03-10T09:36:24.236Z"
      },
      {
        "duration": 23,
        "start_time": "2022-03-10T09:36:27.038Z"
      },
      {
        "duration": 4,
        "start_time": "2022-03-10T09:37:24.473Z"
      },
      {
        "duration": 53,
        "start_time": "2022-03-10T09:37:24.495Z"
      },
      {
        "duration": 19,
        "start_time": "2022-03-10T09:37:24.551Z"
      },
      {
        "duration": 15,
        "start_time": "2022-03-10T09:37:24.584Z"
      },
      {
        "duration": 4,
        "start_time": "2022-03-10T09:37:24.601Z"
      },
      {
        "duration": 15,
        "start_time": "2022-03-10T09:37:24.608Z"
      },
      {
        "duration": 17,
        "start_time": "2022-03-10T09:37:24.626Z"
      },
      {
        "duration": 23,
        "start_time": "2022-03-10T09:37:24.683Z"
      },
      {
        "duration": 12,
        "start_time": "2022-03-10T09:37:24.710Z"
      },
      {
        "duration": 20,
        "start_time": "2022-03-10T09:37:24.725Z"
      },
      {
        "duration": 39,
        "start_time": "2022-03-10T09:37:24.748Z"
      },
      {
        "duration": 473,
        "start_time": "2022-03-10T09:37:24.790Z"
      },
      {
        "duration": 22,
        "start_time": "2022-03-10T09:37:25.266Z"
      },
      {
        "duration": 20,
        "start_time": "2022-03-10T09:37:25.291Z"
      },
      {
        "duration": 39,
        "start_time": "2022-03-10T09:37:25.313Z"
      },
      {
        "duration": 361,
        "start_time": "2022-03-10T09:37:25.355Z"
      },
      {
        "duration": 8,
        "start_time": "2022-03-10T09:37:25.718Z"
      },
      {
        "duration": 23,
        "start_time": "2022-03-10T09:37:25.728Z"
      },
      {
        "duration": 38,
        "start_time": "2022-03-10T09:37:25.754Z"
      },
      {
        "duration": 21,
        "start_time": "2022-03-10T09:37:25.795Z"
      },
      {
        "duration": 12,
        "start_time": "2022-03-10T09:37:25.818Z"
      },
      {
        "duration": 12,
        "start_time": "2022-03-10T09:37:25.833Z"
      },
      {
        "duration": 9,
        "start_time": "2022-03-10T09:37:25.847Z"
      },
      {
        "duration": 30,
        "start_time": "2022-03-10T09:37:25.860Z"
      },
      {
        "duration": 8,
        "start_time": "2022-03-10T09:37:25.893Z"
      },
      {
        "duration": 22,
        "start_time": "2022-03-10T10:02:28.652Z"
      },
      {
        "duration": 21,
        "start_time": "2022-03-10T10:03:08.963Z"
      },
      {
        "duration": 22,
        "start_time": "2022-03-10T10:03:38.179Z"
      },
      {
        "duration": 17,
        "start_time": "2022-03-10T10:03:53.706Z"
      },
      {
        "duration": 13,
        "start_time": "2022-03-10T10:04:53.515Z"
      },
      {
        "duration": 17,
        "start_time": "2022-03-10T10:05:08.956Z"
      },
      {
        "duration": 9,
        "start_time": "2022-03-10T10:05:15.027Z"
      },
      {
        "duration": 7,
        "start_time": "2022-03-10T10:05:21.939Z"
      },
      {
        "duration": 6,
        "start_time": "2022-03-10T10:09:26.406Z"
      },
      {
        "duration": 9,
        "start_time": "2022-03-10T10:09:28.421Z"
      },
      {
        "duration": 5,
        "start_time": "2022-03-10T10:10:34.070Z"
      },
      {
        "duration": 19,
        "start_time": "2022-03-10T10:11:04.312Z"
      },
      {
        "duration": 16,
        "start_time": "2022-03-10T10:11:23.967Z"
      },
      {
        "duration": 5,
        "start_time": "2022-03-10T10:12:13.805Z"
      },
      {
        "duration": 86,
        "start_time": "2022-03-10T10:12:13.812Z"
      },
      {
        "duration": 18,
        "start_time": "2022-03-10T10:12:13.901Z"
      },
      {
        "duration": 16,
        "start_time": "2022-03-10T10:12:13.922Z"
      },
      {
        "duration": 6,
        "start_time": "2022-03-10T10:12:13.940Z"
      },
      {
        "duration": 45,
        "start_time": "2022-03-10T10:12:13.949Z"
      },
      {
        "duration": 19,
        "start_time": "2022-03-10T10:12:13.997Z"
      },
      {
        "duration": 63,
        "start_time": "2022-03-10T10:12:14.022Z"
      },
      {
        "duration": 12,
        "start_time": "2022-03-10T10:12:14.089Z"
      },
      {
        "duration": 15,
        "start_time": "2022-03-10T10:12:14.104Z"
      },
      {
        "duration": 8,
        "start_time": "2022-03-10T10:12:14.122Z"
      },
      {
        "duration": 501,
        "start_time": "2022-03-10T10:12:14.182Z"
      },
      {
        "duration": 11,
        "start_time": "2022-03-10T10:12:14.685Z"
      },
      {
        "duration": 20,
        "start_time": "2022-03-10T10:12:14.698Z"
      },
      {
        "duration": 25,
        "start_time": "2022-03-10T10:12:14.721Z"
      },
      {
        "duration": 395,
        "start_time": "2022-03-10T10:12:14.748Z"
      },
      {
        "duration": 8,
        "start_time": "2022-03-10T10:12:15.145Z"
      },
      {
        "duration": 26,
        "start_time": "2022-03-10T10:12:15.156Z"
      },
      {
        "duration": 15,
        "start_time": "2022-03-10T10:12:15.185Z"
      },
      {
        "duration": 11,
        "start_time": "2022-03-10T10:12:15.202Z"
      },
      {
        "duration": 20,
        "start_time": "2022-03-10T10:12:15.215Z"
      },
      {
        "duration": 28,
        "start_time": "2022-03-10T10:12:15.238Z"
      },
      {
        "duration": 24,
        "start_time": "2022-03-10T10:12:15.271Z"
      },
      {
        "duration": 14,
        "start_time": "2022-03-10T10:12:15.298Z"
      },
      {
        "duration": 21,
        "start_time": "2022-03-10T10:12:15.315Z"
      },
      {
        "duration": 52,
        "start_time": "2022-03-10T10:12:15.339Z"
      },
      {
        "duration": 4,
        "start_time": "2022-03-10T10:12:32.327Z"
      },
      {
        "duration": 4,
        "start_time": "2022-03-10T10:12:51.168Z"
      },
      {
        "duration": 3,
        "start_time": "2022-03-10T10:14:30.287Z"
      },
      {
        "duration": 54,
        "start_time": "2022-03-10T10:15:00.018Z"
      },
      {
        "duration": 55,
        "start_time": "2022-03-10T10:15:03.444Z"
      },
      {
        "duration": 4,
        "start_time": "2022-03-10T10:15:10.120Z"
      },
      {
        "duration": 70,
        "start_time": "2022-03-10T10:15:10.129Z"
      },
      {
        "duration": 22,
        "start_time": "2022-03-10T10:15:10.202Z"
      },
      {
        "duration": 31,
        "start_time": "2022-03-10T10:15:10.229Z"
      },
      {
        "duration": 21,
        "start_time": "2022-03-10T10:15:10.263Z"
      },
      {
        "duration": 13,
        "start_time": "2022-03-10T10:15:10.287Z"
      },
      {
        "duration": 17,
        "start_time": "2022-03-10T10:15:10.303Z"
      },
      {
        "duration": 63,
        "start_time": "2022-03-10T10:15:10.323Z"
      },
      {
        "duration": 9,
        "start_time": "2022-03-10T10:15:10.391Z"
      },
      {
        "duration": 18,
        "start_time": "2022-03-10T10:15:10.403Z"
      },
      {
        "duration": 13,
        "start_time": "2022-03-10T10:15:10.424Z"
      },
      {
        "duration": 502,
        "start_time": "2022-03-10T10:15:10.439Z"
      },
      {
        "duration": 12,
        "start_time": "2022-03-10T10:15:10.945Z"
      },
      {
        "duration": 40,
        "start_time": "2022-03-10T10:15:10.960Z"
      },
      {
        "duration": 51,
        "start_time": "2022-03-10T10:15:11.003Z"
      },
      {
        "duration": 375,
        "start_time": "2022-03-10T10:15:11.057Z"
      },
      {
        "duration": 10,
        "start_time": "2022-03-10T10:15:11.436Z"
      },
      {
        "duration": 33,
        "start_time": "2022-03-10T10:15:11.449Z"
      },
      {
        "duration": 9,
        "start_time": "2022-03-10T10:15:11.486Z"
      },
      {
        "duration": 10,
        "start_time": "2022-03-10T10:15:11.498Z"
      },
      {
        "duration": 9,
        "start_time": "2022-03-10T10:15:11.511Z"
      },
      {
        "duration": 32,
        "start_time": "2022-03-10T10:15:11.522Z"
      },
      {
        "duration": 9,
        "start_time": "2022-03-10T10:15:11.582Z"
      },
      {
        "duration": 8,
        "start_time": "2022-03-10T10:15:11.595Z"
      },
      {
        "duration": 9,
        "start_time": "2022-03-10T10:15:11.606Z"
      },
      {
        "duration": 33,
        "start_time": "2022-03-10T10:15:11.617Z"
      },
      {
        "duration": 3,
        "start_time": "2022-03-10T10:17:05.881Z"
      },
      {
        "duration": 59,
        "start_time": "2022-03-10T10:17:05.890Z"
      },
      {
        "duration": 41,
        "start_time": "2022-03-10T10:17:05.952Z"
      },
      {
        "duration": 22,
        "start_time": "2022-03-10T10:17:05.998Z"
      },
      {
        "duration": 7,
        "start_time": "2022-03-10T10:17:06.024Z"
      },
      {
        "duration": 17,
        "start_time": "2022-03-10T10:17:06.034Z"
      },
      {
        "duration": 20,
        "start_time": "2022-03-10T10:17:06.083Z"
      },
      {
        "duration": 26,
        "start_time": "2022-03-10T10:17:06.106Z"
      },
      {
        "duration": 50,
        "start_time": "2022-03-10T10:17:06.137Z"
      },
      {
        "duration": 15,
        "start_time": "2022-03-10T10:17:06.192Z"
      },
      {
        "duration": 9,
        "start_time": "2022-03-10T10:17:06.210Z"
      },
      {
        "duration": 491,
        "start_time": "2022-03-10T10:17:06.221Z"
      },
      {
        "duration": 10,
        "start_time": "2022-03-10T10:17:06.715Z"
      },
      {
        "duration": 22,
        "start_time": "2022-03-10T10:17:06.728Z"
      },
      {
        "duration": 44,
        "start_time": "2022-03-10T10:17:06.753Z"
      },
      {
        "duration": 402,
        "start_time": "2022-03-10T10:17:06.800Z"
      },
      {
        "duration": 9,
        "start_time": "2022-03-10T10:17:07.205Z"
      },
      {
        "duration": 12,
        "start_time": "2022-03-10T10:17:07.217Z"
      },
      {
        "duration": 11,
        "start_time": "2022-03-10T10:17:07.231Z"
      },
      {
        "duration": 66,
        "start_time": "2022-03-10T10:17:07.245Z"
      },
      {
        "duration": 10,
        "start_time": "2022-03-10T10:17:07.313Z"
      },
      {
        "duration": 19,
        "start_time": "2022-03-10T10:17:07.325Z"
      },
      {
        "duration": 19,
        "start_time": "2022-03-10T10:17:07.347Z"
      },
      {
        "duration": 14,
        "start_time": "2022-03-10T10:17:07.370Z"
      },
      {
        "duration": 12,
        "start_time": "2022-03-10T10:17:07.387Z"
      },
      {
        "duration": 35,
        "start_time": "2022-03-10T10:17:07.401Z"
      },
      {
        "duration": 22,
        "start_time": "2022-03-10T10:26:58.891Z"
      },
      {
        "duration": 28,
        "start_time": "2022-03-10T12:08:18.344Z"
      },
      {
        "duration": 5,
        "start_time": "2022-03-10T12:12:34.698Z"
      },
      {
        "duration": 277,
        "start_time": "2022-03-10T12:12:34.709Z"
      },
      {
        "duration": 194,
        "start_time": "2022-03-10T12:12:34.990Z"
      },
      {
        "duration": 288,
        "start_time": "2022-03-10T12:12:35.187Z"
      },
      {
        "duration": 250,
        "start_time": "2022-03-10T12:12:35.478Z"
      },
      {
        "duration": 276,
        "start_time": "2022-03-10T12:12:35.731Z"
      },
      {
        "duration": 277,
        "start_time": "2022-03-10T12:12:36.010Z"
      },
      {
        "duration": 378,
        "start_time": "2022-03-10T12:12:36.290Z"
      },
      {
        "duration": 334,
        "start_time": "2022-03-10T12:12:36.671Z"
      },
      {
        "duration": 292,
        "start_time": "2022-03-10T12:12:37.010Z"
      },
      {
        "duration": 328,
        "start_time": "2022-03-10T12:12:37.305Z"
      },
      {
        "duration": 768,
        "start_time": "2022-03-10T12:12:37.635Z"
      },
      {
        "duration": 13,
        "start_time": "2022-03-10T12:12:38.406Z"
      },
      {
        "duration": 260,
        "start_time": "2022-03-10T12:12:38.421Z"
      },
      {
        "duration": 258,
        "start_time": "2022-03-10T12:12:38.683Z"
      },
      {
        "duration": 728,
        "start_time": "2022-03-10T12:12:38.944Z"
      },
      {
        "duration": 12,
        "start_time": "2022-03-10T12:12:39.674Z"
      },
      {
        "duration": 446,
        "start_time": "2022-03-10T12:12:39.688Z"
      },
      {
        "duration": 327,
        "start_time": "2022-03-10T12:12:40.137Z"
      },
      {
        "duration": 318,
        "start_time": "2022-03-10T12:12:40.467Z"
      },
      {
        "duration": 326,
        "start_time": "2022-03-10T12:12:40.788Z"
      },
      {
        "duration": 335,
        "start_time": "2022-03-10T12:12:41.117Z"
      },
      {
        "duration": 513,
        "start_time": "2022-03-10T12:12:41.455Z"
      },
      {
        "duration": 453,
        "start_time": "2022-03-10T12:12:41.971Z"
      },
      {
        "duration": 808,
        "start_time": "2022-03-10T12:12:42.427Z"
      },
      {
        "duration": 1196,
        "start_time": "2022-03-10T12:12:43.238Z"
      },
      {
        "duration": 349,
        "start_time": "2022-03-10T12:12:44.437Z"
      },
      {
        "duration": 358,
        "start_time": "2022-03-10T12:12:44.790Z"
      },
      {
        "duration": 307,
        "start_time": "2022-03-10T12:12:45.151Z"
      },
      {
        "duration": 344,
        "start_time": "2022-03-10T12:12:45.460Z"
      },
      {
        "duration": 48,
        "start_time": "2022-03-10T12:14:24.714Z"
      },
      {
        "duration": 27,
        "start_time": "2022-03-10T12:15:35.694Z"
      },
      {
        "duration": 5,
        "start_time": "2022-03-10T12:23:31.924Z"
      },
      {
        "duration": 311,
        "start_time": "2022-03-10T12:30:11.178Z"
      },
      {
        "duration": 5,
        "start_time": "2022-03-10T12:34:35.619Z"
      },
      {
        "duration": 13,
        "start_time": "2022-03-10T12:34:36.290Z"
      },
      {
        "duration": 52,
        "start_time": "2022-03-10T12:34:36.995Z"
      },
      {
        "duration": 294,
        "start_time": "2022-03-10T13:20:42.035Z"
      },
      {
        "duration": 25,
        "start_time": "2022-03-10T13:20:42.715Z"
      },
      {
        "duration": 32,
        "start_time": "2022-03-10T13:59:42.128Z"
      },
      {
        "duration": 432,
        "start_time": "2022-03-14T06:54:02.693Z"
      },
      {
        "duration": 776,
        "start_time": "2022-03-14T06:54:48.946Z"
      },
      {
        "duration": 70,
        "start_time": "2022-03-14T06:54:49.725Z"
      },
      {
        "duration": 35,
        "start_time": "2022-03-14T06:54:49.799Z"
      },
      {
        "duration": 19,
        "start_time": "2022-03-14T06:54:49.837Z"
      },
      {
        "duration": 5,
        "start_time": "2022-03-14T06:54:49.858Z"
      },
      {
        "duration": 14,
        "start_time": "2022-03-14T06:54:49.866Z"
      },
      {
        "duration": 55,
        "start_time": "2022-03-14T06:54:49.882Z"
      },
      {
        "duration": 25,
        "start_time": "2022-03-14T06:54:49.941Z"
      },
      {
        "duration": 10,
        "start_time": "2022-03-14T06:54:49.969Z"
      },
      {
        "duration": 56,
        "start_time": "2022-03-14T06:54:49.982Z"
      },
      {
        "duration": 21,
        "start_time": "2022-03-14T06:54:50.040Z"
      },
      {
        "duration": 501,
        "start_time": "2022-03-14T06:54:50.063Z"
      },
      {
        "duration": 11,
        "start_time": "2022-03-14T06:54:50.566Z"
      },
      {
        "duration": 12,
        "start_time": "2022-03-14T06:54:50.579Z"
      },
      {
        "duration": 53,
        "start_time": "2022-03-14T06:54:50.594Z"
      },
      {
        "duration": 395,
        "start_time": "2022-03-14T06:54:50.649Z"
      },
      {
        "duration": 9,
        "start_time": "2022-03-14T06:54:51.047Z"
      },
      {
        "duration": 12,
        "start_time": "2022-03-14T06:54:51.058Z"
      },
      {
        "duration": 11,
        "start_time": "2022-03-14T06:54:51.073Z"
      },
      {
        "duration": 46,
        "start_time": "2022-03-14T06:54:51.087Z"
      },
      {
        "duration": 11,
        "start_time": "2022-03-14T06:54:51.135Z"
      },
      {
        "duration": 27,
        "start_time": "2022-03-14T06:54:51.148Z"
      },
      {
        "duration": 9,
        "start_time": "2022-03-14T06:54:51.180Z"
      },
      {
        "duration": 48,
        "start_time": "2022-03-14T06:54:51.192Z"
      },
      {
        "duration": 12,
        "start_time": "2022-03-14T06:54:51.243Z"
      },
      {
        "duration": 43,
        "start_time": "2022-03-14T06:54:51.258Z"
      },
      {
        "duration": 50,
        "start_time": "2022-03-14T06:54:51.304Z"
      },
      {
        "duration": 43,
        "start_time": "2022-03-14T06:54:51.356Z"
      },
      {
        "duration": 25,
        "start_time": "2022-03-14T06:54:51.432Z"
      },
      {
        "duration": 22,
        "start_time": "2022-03-14T06:54:51.460Z"
      },
      {
        "duration": 470,
        "start_time": "2022-03-14T06:54:51.485Z"
      },
      {
        "duration": 134,
        "start_time": "2022-03-14T06:54:51.824Z"
      },
      {
        "duration": 88,
        "start_time": "2022-03-14T06:56:36.112Z"
      },
      {
        "duration": 49,
        "start_time": "2022-03-14T06:59:14.962Z"
      },
      {
        "duration": 74,
        "start_time": "2022-03-14T07:00:06.369Z"
      },
      {
        "duration": 411,
        "start_time": "2022-03-14T07:01:02.714Z"
      },
      {
        "duration": 68,
        "start_time": "2022-03-14T07:01:24.653Z"
      },
      {
        "duration": 47,
        "start_time": "2022-03-14T07:01:56.523Z"
      },
      {
        "duration": 45,
        "start_time": "2022-03-14T07:04:06.916Z"
      },
      {
        "duration": 33,
        "start_time": "2022-03-14T07:09:36.449Z"
      },
      {
        "duration": 30,
        "start_time": "2022-03-14T07:10:59.352Z"
      },
      {
        "duration": 325,
        "start_time": "2022-03-14T07:14:35.593Z"
      },
      {
        "duration": 29,
        "start_time": "2022-03-14T07:15:00.417Z"
      },
      {
        "duration": 25,
        "start_time": "2022-03-14T07:15:20.562Z"
      },
      {
        "duration": 43,
        "start_time": "2022-03-14T07:15:35.330Z"
      },
      {
        "duration": 31,
        "start_time": "2022-03-14T07:17:38.523Z"
      },
      {
        "duration": 28,
        "start_time": "2022-03-14T07:28:04.614Z"
      },
      {
        "duration": 120,
        "start_time": "2022-03-14T08:01:20.725Z"
      },
      {
        "duration": 115,
        "start_time": "2022-03-14T08:01:41.100Z"
      },
      {
        "duration": 112,
        "start_time": "2022-03-14T08:02:38.053Z"
      },
      {
        "duration": 390,
        "start_time": "2022-03-14T08:02:59.310Z"
      },
      {
        "duration": 101,
        "start_time": "2022-03-14T08:04:07.406Z"
      },
      {
        "duration": 7,
        "start_time": "2022-03-14T08:05:23.063Z"
      },
      {
        "duration": 28,
        "start_time": "2022-03-14T08:06:00.831Z"
      },
      {
        "duration": 61,
        "start_time": "2022-03-14T08:07:18.535Z"
      },
      {
        "duration": 61,
        "start_time": "2022-03-14T08:09:48.921Z"
      },
      {
        "duration": 9,
        "start_time": "2022-03-14T08:18:01.261Z"
      },
      {
        "duration": 314,
        "start_time": "2022-03-14T08:29:33.997Z"
      },
      {
        "duration": 325,
        "start_time": "2022-03-14T08:30:05.501Z"
      },
      {
        "duration": 5491,
        "start_time": "2022-03-14T08:30:52.014Z"
      },
      {
        "duration": 14,
        "start_time": "2022-03-14T08:31:24.557Z"
      },
      {
        "duration": 15,
        "start_time": "2022-03-14T08:36:52.698Z"
      },
      {
        "duration": 32,
        "start_time": "2022-03-14T08:38:06.292Z"
      },
      {
        "duration": 366,
        "start_time": "2022-03-14T08:41:23.779Z"
      },
      {
        "duration": 35,
        "start_time": "2022-03-14T08:41:31.778Z"
      },
      {
        "duration": 29,
        "start_time": "2022-03-14T08:41:55.459Z"
      },
      {
        "duration": 42,
        "start_time": "2022-03-14T08:49:48.825Z"
      },
      {
        "duration": 28,
        "start_time": "2022-03-14T09:12:24.158Z"
      },
      {
        "duration": 343,
        "start_time": "2022-03-14T09:24:00.709Z"
      },
      {
        "duration": 30,
        "start_time": "2022-03-14T09:24:56.540Z"
      },
      {
        "duration": 36,
        "start_time": "2022-03-14T09:36:11.476Z"
      },
      {
        "duration": 515,
        "start_time": "2022-03-24T10:12:27.406Z"
      },
      {
        "duration": 59,
        "start_time": "2022-03-24T10:12:27.924Z"
      },
      {
        "duration": 19,
        "start_time": "2022-03-24T10:12:27.984Z"
      },
      {
        "duration": 15,
        "start_time": "2022-03-24T10:12:28.005Z"
      },
      {
        "duration": 5,
        "start_time": "2022-03-24T10:12:28.021Z"
      },
      {
        "duration": 13,
        "start_time": "2022-03-24T10:12:28.028Z"
      },
      {
        "duration": 44,
        "start_time": "2022-03-24T10:12:28.043Z"
      },
      {
        "duration": 20,
        "start_time": "2022-03-24T10:12:28.089Z"
      },
      {
        "duration": 7,
        "start_time": "2022-03-24T10:12:28.111Z"
      },
      {
        "duration": 13,
        "start_time": "2022-03-24T10:12:28.121Z"
      },
      {
        "duration": 4,
        "start_time": "2022-03-24T10:12:28.136Z"
      },
      {
        "duration": 387,
        "start_time": "2022-03-24T10:12:28.142Z"
      },
      {
        "duration": 8,
        "start_time": "2022-03-24T10:12:28.531Z"
      },
      {
        "duration": 32,
        "start_time": "2022-03-24T10:12:28.541Z"
      },
      {
        "duration": 33,
        "start_time": "2022-03-24T10:12:28.575Z"
      },
      {
        "duration": 259,
        "start_time": "2022-03-24T10:12:28.610Z"
      },
      {
        "duration": 12,
        "start_time": "2022-03-24T10:12:28.871Z"
      },
      {
        "duration": 31,
        "start_time": "2022-03-24T10:12:28.885Z"
      },
      {
        "duration": 18,
        "start_time": "2022-03-24T10:12:28.918Z"
      },
      {
        "duration": 19,
        "start_time": "2022-03-24T10:12:28.938Z"
      },
      {
        "duration": 28,
        "start_time": "2022-03-24T10:12:28.959Z"
      },
      {
        "duration": 22,
        "start_time": "2022-03-24T10:12:28.989Z"
      },
      {
        "duration": 22,
        "start_time": "2022-03-24T10:12:29.013Z"
      },
      {
        "duration": 27,
        "start_time": "2022-03-24T10:12:29.036Z"
      },
      {
        "duration": 16,
        "start_time": "2022-03-24T10:12:29.065Z"
      },
      {
        "duration": 69,
        "start_time": "2022-03-24T10:12:29.084Z"
      },
      {
        "duration": 23,
        "start_time": "2022-03-24T10:12:29.155Z"
      },
      {
        "duration": 39,
        "start_time": "2022-03-24T10:12:29.183Z"
      },
      {
        "duration": 18,
        "start_time": "2022-03-24T10:12:29.225Z"
      },
      {
        "duration": 39,
        "start_time": "2022-03-24T10:12:29.245Z"
      },
      {
        "duration": 36,
        "start_time": "2022-03-24T10:12:29.286Z"
      },
      {
        "duration": 22,
        "start_time": "2022-03-24T10:12:29.324Z"
      },
      {
        "duration": 20,
        "start_time": "2022-03-24T10:12:29.347Z"
      },
      {
        "duration": 66,
        "start_time": "2022-03-24T10:12:29.380Z"
      },
      {
        "duration": 5,
        "start_time": "2022-03-24T10:12:29.448Z"
      },
      {
        "duration": 4150,
        "start_time": "2022-03-24T10:12:29.455Z"
      },
      {
        "duration": 13,
        "start_time": "2022-03-24T10:12:33.608Z"
      },
      {
        "duration": 16,
        "start_time": "2022-03-24T10:12:33.624Z"
      },
      {
        "duration": 43,
        "start_time": "2022-03-24T10:12:33.642Z"
      },
      {
        "duration": 18,
        "start_time": "2022-03-24T10:12:33.687Z"
      },
      {
        "duration": 19,
        "start_time": "2022-03-24T10:12:33.707Z"
      },
      {
        "duration": 15,
        "start_time": "2022-03-24T10:12:33.728Z"
      },
      {
        "duration": 43,
        "start_time": "2022-03-24T10:12:33.744Z"
      },
      {
        "duration": 2,
        "start_time": "2022-03-24T10:22:15.849Z"
      },
      {
        "duration": 7,
        "start_time": "2022-03-24T10:23:39.011Z"
      },
      {
        "duration": 368,
        "start_time": "2022-03-24T10:24:59.127Z"
      },
      {
        "duration": 63,
        "start_time": "2022-03-24T10:24:59.497Z"
      },
      {
        "duration": 20,
        "start_time": "2022-03-24T10:24:59.562Z"
      },
      {
        "duration": 14,
        "start_time": "2022-03-24T10:24:59.584Z"
      },
      {
        "duration": 4,
        "start_time": "2022-03-24T10:24:59.600Z"
      },
      {
        "duration": 12,
        "start_time": "2022-03-24T10:24:59.606Z"
      },
      {
        "duration": 11,
        "start_time": "2022-03-24T10:24:59.620Z"
      },
      {
        "duration": 55,
        "start_time": "2022-03-24T10:24:59.632Z"
      },
      {
        "duration": 6,
        "start_time": "2022-03-24T10:24:59.689Z"
      },
      {
        "duration": 13,
        "start_time": "2022-03-24T10:24:59.698Z"
      },
      {
        "duration": 4,
        "start_time": "2022-03-24T10:24:59.712Z"
      },
      {
        "duration": 252,
        "start_time": "2022-03-24T10:24:59.718Z"
      },
      {
        "duration": 14,
        "start_time": "2022-03-24T10:24:59.972Z"
      },
      {
        "duration": 5,
        "start_time": "2022-03-24T10:24:59.987Z"
      },
      {
        "duration": 14,
        "start_time": "2022-03-24T10:24:59.993Z"
      },
      {
        "duration": 20,
        "start_time": "2022-03-24T10:25:00.008Z"
      },
      {
        "duration": 202,
        "start_time": "2022-03-24T10:25:00.030Z"
      },
      {
        "duration": 6,
        "start_time": "2022-03-24T10:25:00.233Z"
      },
      {
        "duration": 9,
        "start_time": "2022-03-24T10:25:00.241Z"
      },
      {
        "duration": 10,
        "start_time": "2022-03-24T10:25:00.252Z"
      },
      {
        "duration": 18,
        "start_time": "2022-03-24T10:25:00.263Z"
      },
      {
        "duration": 14,
        "start_time": "2022-03-24T10:25:00.283Z"
      },
      {
        "duration": 22,
        "start_time": "2022-03-24T10:25:00.299Z"
      },
      {
        "duration": 11,
        "start_time": "2022-03-24T10:25:00.322Z"
      },
      {
        "duration": 8,
        "start_time": "2022-03-24T10:25:00.335Z"
      },
      {
        "duration": 9,
        "start_time": "2022-03-24T10:25:00.344Z"
      },
      {
        "duration": 44,
        "start_time": "2022-03-24T10:25:00.354Z"
      },
      {
        "duration": 15,
        "start_time": "2022-03-24T10:25:00.402Z"
      },
      {
        "duration": 26,
        "start_time": "2022-03-24T10:25:00.419Z"
      },
      {
        "duration": 42,
        "start_time": "2022-03-24T10:25:00.447Z"
      },
      {
        "duration": 16,
        "start_time": "2022-03-24T10:25:00.491Z"
      },
      {
        "duration": 38,
        "start_time": "2022-03-24T10:25:00.509Z"
      },
      {
        "duration": 19,
        "start_time": "2022-03-24T10:25:00.548Z"
      },
      {
        "duration": 12,
        "start_time": "2022-03-24T10:25:00.580Z"
      },
      {
        "duration": 13,
        "start_time": "2022-03-24T10:25:00.593Z"
      },
      {
        "duration": 44,
        "start_time": "2022-03-24T10:25:00.608Z"
      },
      {
        "duration": 6,
        "start_time": "2022-03-24T10:25:00.653Z"
      },
      {
        "duration": 4207,
        "start_time": "2022-03-24T10:25:00.660Z"
      },
      {
        "duration": 18,
        "start_time": "2022-03-24T10:25:04.870Z"
      },
      {
        "duration": 27,
        "start_time": "2022-03-24T10:25:04.890Z"
      },
      {
        "duration": 52,
        "start_time": "2022-03-24T10:25:04.918Z"
      },
      {
        "duration": 15,
        "start_time": "2022-03-24T10:25:04.971Z"
      },
      {
        "duration": 40,
        "start_time": "2022-03-24T10:25:04.987Z"
      },
      {
        "duration": 15,
        "start_time": "2022-03-24T10:25:05.029Z"
      },
      {
        "duration": 24,
        "start_time": "2022-03-24T10:25:05.045Z"
      },
      {
        "duration": 406,
        "start_time": "2022-03-24T13:34:51.671Z"
      },
      {
        "duration": 789,
        "start_time": "2022-03-24T13:34:52.307Z"
      },
      {
        "duration": 26,
        "start_time": "2022-03-24T13:34:53.764Z"
      },
      {
        "duration": 17,
        "start_time": "2022-03-24T13:34:55.300Z"
      },
      {
        "duration": 12,
        "start_time": "2022-03-24T13:36:26.403Z"
      },
      {
        "duration": 14,
        "start_time": "2022-03-24T13:41:08.750Z"
      },
      {
        "duration": 12,
        "start_time": "2022-03-24T13:41:19.958Z"
      },
      {
        "duration": 16,
        "start_time": "2022-03-24T13:41:25.110Z"
      },
      {
        "duration": 6,
        "start_time": "2022-03-24T13:41:30.054Z"
      },
      {
        "duration": 17,
        "start_time": "2022-03-24T13:41:30.910Z"
      },
      {
        "duration": 5,
        "start_time": "2022-03-24T13:42:50.023Z"
      },
      {
        "duration": 230,
        "start_time": "2022-03-24T13:42:54.159Z"
      },
      {
        "duration": 8,
        "start_time": "2022-03-24T13:43:41.680Z"
      },
      {
        "duration": 3,
        "start_time": "2022-03-24T13:43:42.999Z"
      },
      {
        "duration": 5,
        "start_time": "2022-03-24T13:43:44.575Z"
      },
      {
        "duration": 13,
        "start_time": "2022-03-24T13:43:46.311Z"
      },
      {
        "duration": 187,
        "start_time": "2022-03-24T13:43:48.160Z"
      },
      {
        "duration": 6,
        "start_time": "2022-03-24T13:43:56.048Z"
      },
      {
        "duration": 4,
        "start_time": "2022-03-24T13:44:00.535Z"
      },
      {
        "duration": 6,
        "start_time": "2022-03-24T13:44:02.383Z"
      },
      {
        "duration": 5,
        "start_time": "2022-03-24T13:44:06.126Z"
      },
      {
        "duration": 6,
        "start_time": "2022-03-24T13:44:07.543Z"
      },
      {
        "duration": 12,
        "start_time": "2022-03-24T13:44:08.160Z"
      },
      {
        "duration": 7,
        "start_time": "2022-03-24T13:44:19.239Z"
      },
      {
        "duration": 5,
        "start_time": "2022-03-24T13:44:20.760Z"
      },
      {
        "duration": 6,
        "start_time": "2022-03-24T13:44:22.696Z"
      },
      {
        "duration": 27,
        "start_time": "2022-03-24T13:44:28.191Z"
      },
      {
        "duration": 15,
        "start_time": "2022-03-24T13:44:32.088Z"
      },
      {
        "duration": 28,
        "start_time": "2022-03-24T13:44:32.688Z"
      },
      {
        "duration": 16,
        "start_time": "2022-03-24T13:44:33.305Z"
      },
      {
        "duration": 550,
        "start_time": "2022-04-01T17:31:07.614Z"
      },
      {
        "duration": 89,
        "start_time": "2022-04-01T17:31:08.166Z"
      },
      {
        "duration": 30,
        "start_time": "2022-04-01T17:31:08.958Z"
      },
      {
        "duration": 16,
        "start_time": "2022-04-01T17:31:09.774Z"
      },
      {
        "duration": 3,
        "start_time": "2022-04-01T17:31:13.165Z"
      },
      {
        "duration": 11,
        "start_time": "2022-04-01T17:31:13.751Z"
      },
      {
        "duration": 15,
        "start_time": "2022-04-01T17:31:20.021Z"
      },
      {
        "duration": 15,
        "start_time": "2022-04-01T17:31:21.141Z"
      },
      {
        "duration": 17,
        "start_time": "2022-04-01T17:31:23.542Z"
      },
      {
        "duration": 8,
        "start_time": "2022-04-01T17:31:26.678Z"
      },
      {
        "duration": 16,
        "start_time": "2022-04-01T17:31:27.293Z"
      },
      {
        "duration": 5,
        "start_time": "2022-04-01T17:31:34.533Z"
      },
      {
        "duration": 262,
        "start_time": "2022-04-01T17:31:38.441Z"
      },
      {
        "duration": 8,
        "start_time": "2022-04-01T17:31:42.974Z"
      },
      {
        "duration": 2,
        "start_time": "2022-04-01T17:31:44.221Z"
      },
      {
        "duration": 7,
        "start_time": "2022-04-01T17:31:45.893Z"
      },
      {
        "duration": 20,
        "start_time": "2022-04-01T17:31:49.950Z"
      },
      {
        "duration": 284,
        "start_time": "2022-04-01T17:31:54.030Z"
      },
      {
        "duration": 9,
        "start_time": "2022-04-01T17:32:02.342Z"
      },
      {
        "duration": 6,
        "start_time": "2022-04-01T17:32:04.189Z"
      },
      {
        "duration": 8,
        "start_time": "2022-04-01T17:32:09.854Z"
      },
      {
        "duration": 6,
        "start_time": "2022-04-01T17:32:11.197Z"
      },
      {
        "duration": 9,
        "start_time": "2022-04-01T17:32:12.909Z"
      },
      {
        "duration": 13,
        "start_time": "2022-04-01T17:32:13.598Z"
      },
      {
        "duration": 6,
        "start_time": "2022-04-01T17:32:21.701Z"
      },
      {
        "duration": 5,
        "start_time": "2022-04-01T17:32:23.709Z"
      },
      {
        "duration": 7,
        "start_time": "2022-04-01T17:32:26.029Z"
      },
      {
        "duration": 28,
        "start_time": "2022-04-01T17:32:34.470Z"
      },
      {
        "duration": 3,
        "start_time": "2022-04-01T17:32:38.390Z"
      },
      {
        "duration": 14,
        "start_time": "2022-04-01T17:32:41.383Z"
      },
      {
        "duration": 3,
        "start_time": "2022-04-01T17:32:47.206Z"
      },
      {
        "duration": 8,
        "start_time": "2022-04-01T17:37:15.689Z"
      },
      {
        "duration": 32,
        "start_time": "2022-04-01T17:38:50.475Z"
      },
      {
        "duration": 11,
        "start_time": "2022-04-01T17:41:00.699Z"
      },
      {
        "duration": 28,
        "start_time": "2022-04-01T17:41:02.419Z"
      },
      {
        "duration": 3,
        "start_time": "2022-04-01T17:43:28.004Z"
      },
      {
        "duration": 13,
        "start_time": "2022-04-01T17:43:28.796Z"
      },
      {
        "duration": 3,
        "start_time": "2022-04-01T17:43:29.908Z"
      },
      {
        "duration": 9,
        "start_time": "2022-04-01T17:43:35.867Z"
      },
      {
        "duration": 28,
        "start_time": "2022-04-01T17:43:36.988Z"
      },
      {
        "duration": 19,
        "start_time": "2022-04-01T17:44:56.741Z"
      },
      {
        "duration": 7,
        "start_time": "2022-04-01T17:47:02.439Z"
      },
      {
        "duration": 387,
        "start_time": "2022-04-01T18:00:44.551Z"
      },
      {
        "duration": 67,
        "start_time": "2022-04-01T18:00:44.940Z"
      },
      {
        "duration": 24,
        "start_time": "2022-04-01T18:00:45.009Z"
      },
      {
        "duration": 28,
        "start_time": "2022-04-01T18:00:45.036Z"
      },
      {
        "duration": 26,
        "start_time": "2022-04-01T18:00:45.066Z"
      },
      {
        "duration": 51,
        "start_time": "2022-04-01T18:00:45.094Z"
      },
      {
        "duration": 19,
        "start_time": "2022-04-01T18:00:45.148Z"
      },
      {
        "duration": 40,
        "start_time": "2022-04-01T18:00:45.169Z"
      },
      {
        "duration": 52,
        "start_time": "2022-04-01T18:00:45.211Z"
      },
      {
        "duration": 30,
        "start_time": "2022-04-01T18:00:45.266Z"
      },
      {
        "duration": 23,
        "start_time": "2022-04-01T18:00:45.298Z"
      },
      {
        "duration": 27,
        "start_time": "2022-04-01T18:00:45.324Z"
      },
      {
        "duration": 288,
        "start_time": "2022-04-01T18:00:45.354Z"
      },
      {
        "duration": 8,
        "start_time": "2022-04-01T18:00:45.644Z"
      },
      {
        "duration": 29,
        "start_time": "2022-04-01T18:00:45.653Z"
      },
      {
        "duration": 40,
        "start_time": "2022-04-01T18:00:45.684Z"
      },
      {
        "duration": 34,
        "start_time": "2022-04-01T18:00:45.726Z"
      },
      {
        "duration": 245,
        "start_time": "2022-04-01T18:00:45.762Z"
      },
      {
        "duration": 7,
        "start_time": "2022-04-01T18:00:46.009Z"
      },
      {
        "duration": 28,
        "start_time": "2022-04-01T18:00:46.018Z"
      },
      {
        "duration": 24,
        "start_time": "2022-04-01T18:00:46.048Z"
      },
      {
        "duration": 39,
        "start_time": "2022-04-01T18:00:46.074Z"
      },
      {
        "duration": 22,
        "start_time": "2022-04-01T18:00:46.115Z"
      },
      {
        "duration": 54,
        "start_time": "2022-04-01T18:00:46.140Z"
      },
      {
        "duration": 24,
        "start_time": "2022-04-01T18:00:46.196Z"
      },
      {
        "duration": 27,
        "start_time": "2022-04-01T18:00:46.222Z"
      },
      {
        "duration": 28,
        "start_time": "2022-04-01T18:00:46.251Z"
      },
      {
        "duration": 36,
        "start_time": "2022-04-01T18:00:46.283Z"
      },
      {
        "duration": 8,
        "start_time": "2022-04-01T18:00:46.320Z"
      },
      {
        "duration": 33,
        "start_time": "2022-04-01T18:00:46.330Z"
      },
      {
        "duration": 37,
        "start_time": "2022-04-01T18:00:46.365Z"
      },
      {
        "duration": 38,
        "start_time": "2022-04-01T18:00:46.404Z"
      },
      {
        "duration": 24,
        "start_time": "2022-04-01T18:00:46.444Z"
      },
      {
        "duration": 58,
        "start_time": "2022-04-01T18:00:46.470Z"
      },
      {
        "duration": 21,
        "start_time": "2022-04-01T18:00:46.530Z"
      },
      {
        "duration": 17,
        "start_time": "2022-04-01T18:00:46.554Z"
      },
      {
        "duration": 14,
        "start_time": "2022-04-01T18:00:46.573Z"
      },
      {
        "duration": 60,
        "start_time": "2022-04-01T18:00:46.589Z"
      },
      {
        "duration": 7,
        "start_time": "2022-04-01T18:00:46.651Z"
      },
      {
        "duration": 3954,
        "start_time": "2022-04-01T18:00:46.660Z"
      },
      {
        "duration": 17,
        "start_time": "2022-04-01T18:00:50.617Z"
      },
      {
        "duration": 37,
        "start_time": "2022-04-01T18:00:50.637Z"
      },
      {
        "duration": 77,
        "start_time": "2022-04-01T18:00:50.677Z"
      },
      {
        "duration": 18,
        "start_time": "2022-04-01T18:00:50.756Z"
      },
      {
        "duration": 19,
        "start_time": "2022-04-01T18:00:50.777Z"
      },
      {
        "duration": 39,
        "start_time": "2022-04-01T18:00:50.799Z"
      },
      {
        "duration": 23,
        "start_time": "2022-04-01T18:00:50.841Z"
      },
      {
        "duration": 71,
        "start_time": "2022-04-04T11:56:22.196Z"
      },
      {
        "duration": 547,
        "start_time": "2022-04-04T11:56:34.581Z"
      },
      {
        "duration": 78,
        "start_time": "2022-04-04T11:56:35.131Z"
      },
      {
        "duration": 32,
        "start_time": "2022-04-04T11:56:35.211Z"
      },
      {
        "duration": 50,
        "start_time": "2022-04-04T11:56:35.247Z"
      },
      {
        "duration": 3,
        "start_time": "2022-04-04T11:56:36.677Z"
      },
      {
        "duration": 22,
        "start_time": "2022-04-04T11:56:36.877Z"
      },
      {
        "duration": 19,
        "start_time": "2022-04-04T11:56:38.557Z"
      },
      {
        "duration": 19,
        "start_time": "2022-04-04T11:56:39.541Z"
      },
      {
        "duration": 24,
        "start_time": "2022-04-04T11:56:40.621Z"
      },
      {
        "duration": 10,
        "start_time": "2022-04-04T11:56:42.140Z"
      },
      {
        "duration": 24,
        "start_time": "2022-04-04T11:57:17.973Z"
      },
      {
        "duration": 5,
        "start_time": "2022-04-04T11:57:20.854Z"
      },
      {
        "duration": 510,
        "start_time": "2022-04-04T11:57:21.428Z"
      },
      {
        "duration": 11,
        "start_time": "2022-04-04T11:57:22.116Z"
      },
      {
        "duration": 4,
        "start_time": "2022-04-04T11:57:23.916Z"
      },
      {
        "duration": 8,
        "start_time": "2022-04-04T11:57:24.821Z"
      },
      {
        "duration": 25,
        "start_time": "2022-04-04T11:57:26.164Z"
      },
      {
        "duration": 405,
        "start_time": "2022-04-04T11:57:27.702Z"
      },
      {
        "duration": 9,
        "start_time": "2022-04-04T11:57:31.597Z"
      },
      {
        "duration": 6,
        "start_time": "2022-04-04T11:57:33.924Z"
      },
      {
        "duration": 8,
        "start_time": "2022-04-04T11:57:35.644Z"
      },
      {
        "duration": 6,
        "start_time": "2022-04-04T11:57:37.652Z"
      },
      {
        "duration": 8,
        "start_time": "2022-04-04T11:57:38.597Z"
      },
      {
        "duration": 21,
        "start_time": "2022-04-04T11:57:38.885Z"
      },
      {
        "duration": 11,
        "start_time": "2022-04-04T11:57:42.100Z"
      },
      {
        "duration": 6,
        "start_time": "2022-04-04T11:57:42.757Z"
      },
      {
        "duration": 9,
        "start_time": "2022-04-04T11:57:43.516Z"
      },
      {
        "duration": 39,
        "start_time": "2022-04-04T11:57:45.108Z"
      },
      {
        "duration": 4,
        "start_time": "2022-04-04T11:57:46.708Z"
      },
      {
        "duration": 18,
        "start_time": "2022-04-04T11:57:46.965Z"
      },
      {
        "duration": 3,
        "start_time": "2022-04-04T11:57:47.429Z"
      },
      {
        "duration": 17,
        "start_time": "2022-04-04T11:57:49.391Z"
      },
      {
        "duration": 22,
        "start_time": "2022-04-04T11:57:50.045Z"
      },
      {
        "duration": 3,
        "start_time": "2022-04-04T11:57:53.732Z"
      },
      {
        "duration": 3,
        "start_time": "2022-04-04T11:57:57.124Z"
      },
      {
        "duration": 3,
        "start_time": "2022-04-04T11:57:58.198Z"
      },
      {
        "duration": 20,
        "start_time": "2022-04-04T11:58:06.972Z"
      },
      {
        "duration": 16,
        "start_time": "2022-04-04T11:58:34.813Z"
      },
      {
        "duration": 16,
        "start_time": "2022-04-04T12:00:54.253Z"
      },
      {
        "duration": 18,
        "start_time": "2022-04-04T12:02:06.579Z"
      },
      {
        "duration": 60,
        "start_time": "2022-04-04T12:03:03.108Z"
      },
      {
        "duration": 9,
        "start_time": "2022-04-04T12:03:07.595Z"
      },
      {
        "duration": 4976,
        "start_time": "2022-04-04T12:03:10.020Z"
      },
      {
        "duration": 14,
        "start_time": "2022-04-04T12:03:14.999Z"
      },
      {
        "duration": 67,
        "start_time": "2022-04-04T12:03:15.016Z"
      },
      {
        "duration": 52,
        "start_time": "2022-04-04T12:03:15.086Z"
      },
      {
        "duration": 26,
        "start_time": "2022-04-04T12:03:39.388Z"
      },
      {
        "duration": 27,
        "start_time": "2022-04-04T12:03:42.990Z"
      },
      {
        "duration": 23,
        "start_time": "2022-04-04T12:03:47.107Z"
      },
      {
        "duration": 24,
        "start_time": "2022-04-04T12:03:52.740Z"
      },
      {
        "duration": 44,
        "start_time": "2022-04-04T12:56:35.358Z"
      },
      {
        "duration": 61,
        "start_time": "2022-04-04T12:57:38.350Z"
      },
      {
        "duration": 37,
        "start_time": "2022-04-04T12:58:19.559Z"
      },
      {
        "duration": 564,
        "start_time": "2022-04-04T13:01:13.375Z"
      },
      {
        "duration": 87,
        "start_time": "2022-04-04T13:01:13.942Z"
      },
      {
        "duration": 30,
        "start_time": "2022-04-04T13:01:14.031Z"
      },
      {
        "duration": 41,
        "start_time": "2022-04-04T13:01:14.064Z"
      },
      {
        "duration": 3,
        "start_time": "2022-04-04T13:01:14.108Z"
      },
      {
        "duration": 31,
        "start_time": "2022-04-04T13:01:14.113Z"
      },
      {
        "duration": 44,
        "start_time": "2022-04-04T13:01:14.146Z"
      },
      {
        "duration": 19,
        "start_time": "2022-04-04T13:01:14.192Z"
      },
      {
        "duration": 31,
        "start_time": "2022-04-04T13:01:14.214Z"
      },
      {
        "duration": 39,
        "start_time": "2022-04-04T13:01:14.249Z"
      },
      {
        "duration": 21,
        "start_time": "2022-04-04T13:01:14.290Z"
      },
      {
        "duration": 7,
        "start_time": "2022-04-04T13:01:14.313Z"
      },
      {
        "duration": 568,
        "start_time": "2022-04-04T13:01:14.322Z"
      },
      {
        "duration": 14,
        "start_time": "2022-04-04T13:01:14.892Z"
      },
      {
        "duration": 4,
        "start_time": "2022-04-04T13:01:14.909Z"
      },
      {
        "duration": 9,
        "start_time": "2022-04-04T13:01:14.916Z"
      },
      {
        "duration": 64,
        "start_time": "2022-04-04T13:01:14.928Z"
      },
      {
        "duration": 451,
        "start_time": "2022-04-04T13:01:14.994Z"
      },
      {
        "duration": 10,
        "start_time": "2022-04-04T13:01:15.447Z"
      },
      {
        "duration": 26,
        "start_time": "2022-04-04T13:01:15.459Z"
      },
      {
        "duration": 11,
        "start_time": "2022-04-04T13:01:15.488Z"
      },
      {
        "duration": 13,
        "start_time": "2022-04-04T13:01:15.501Z"
      },
      {
        "duration": 11,
        "start_time": "2022-04-04T13:01:15.516Z"
      },
      {
        "duration": 23,
        "start_time": "2022-04-04T13:01:15.529Z"
      },
      {
        "duration": 9,
        "start_time": "2022-04-04T13:01:15.584Z"
      },
      {
        "duration": 19,
        "start_time": "2022-04-04T13:01:15.595Z"
      },
      {
        "duration": 20,
        "start_time": "2022-04-04T13:01:15.618Z"
      },
      {
        "duration": 60,
        "start_time": "2022-04-04T13:01:15.643Z"
      },
      {
        "duration": 9,
        "start_time": "2022-04-04T13:01:15.705Z"
      },
      {
        "duration": 37,
        "start_time": "2022-04-04T13:01:15.717Z"
      },
      {
        "duration": 51,
        "start_time": "2022-04-04T13:01:15.768Z"
      },
      {
        "duration": 77,
        "start_time": "2022-04-04T13:01:15.822Z"
      },
      {
        "duration": 35,
        "start_time": "2022-04-04T13:01:15.901Z"
      },
      {
        "duration": 3,
        "start_time": "2022-04-04T13:01:15.939Z"
      },
      {
        "duration": 10,
        "start_time": "2022-04-04T13:01:15.945Z"
      },
      {
        "duration": 41,
        "start_time": "2022-04-04T13:01:15.958Z"
      },
      {
        "duration": 16,
        "start_time": "2022-04-04T13:01:16.001Z"
      },
      {
        "duration": 19,
        "start_time": "2022-04-04T13:01:16.019Z"
      },
      {
        "duration": 44,
        "start_time": "2022-04-04T13:01:16.041Z"
      },
      {
        "duration": 73,
        "start_time": "2022-04-04T13:01:16.087Z"
      },
      {
        "duration": 25,
        "start_time": "2022-04-04T13:01:16.163Z"
      },
      {
        "duration": 4840,
        "start_time": "2022-04-04T13:01:16.190Z"
      },
      {
        "duration": 13,
        "start_time": "2022-04-04T13:01:21.033Z"
      },
      {
        "duration": 37,
        "start_time": "2022-04-04T13:01:21.048Z"
      },
      {
        "duration": 41,
        "start_time": "2022-04-04T13:01:21.088Z"
      },
      {
        "duration": 27,
        "start_time": "2022-04-04T13:01:21.132Z"
      },
      {
        "duration": 45,
        "start_time": "2022-04-04T13:01:21.161Z"
      },
      {
        "duration": 30,
        "start_time": "2022-04-04T13:01:21.209Z"
      },
      {
        "duration": 53,
        "start_time": "2022-04-04T13:01:21.242Z"
      },
      {
        "duration": 499,
        "start_time": "2022-04-05T07:14:39.268Z"
      },
      {
        "duration": 74,
        "start_time": "2022-04-05T07:14:39.770Z"
      },
      {
        "duration": 34,
        "start_time": "2022-04-05T07:14:39.846Z"
      },
      {
        "duration": 21,
        "start_time": "2022-04-05T07:14:39.883Z"
      },
      {
        "duration": 3,
        "start_time": "2022-04-05T07:14:39.907Z"
      },
      {
        "duration": 15,
        "start_time": "2022-04-05T07:14:39.912Z"
      },
      {
        "duration": 49,
        "start_time": "2022-04-05T07:14:39.929Z"
      },
      {
        "duration": 19,
        "start_time": "2022-04-05T07:14:39.980Z"
      },
      {
        "duration": 24,
        "start_time": "2022-04-05T07:14:40.001Z"
      },
      {
        "duration": 40,
        "start_time": "2022-04-05T07:14:40.027Z"
      },
      {
        "duration": 20,
        "start_time": "2022-04-05T07:14:40.069Z"
      },
      {
        "duration": 6,
        "start_time": "2022-04-05T07:14:40.091Z"
      },
      {
        "duration": 522,
        "start_time": "2022-04-05T07:14:40.099Z"
      },
      {
        "duration": 10,
        "start_time": "2022-04-05T07:14:40.627Z"
      },
      {
        "duration": 4,
        "start_time": "2022-04-05T07:14:40.640Z"
      },
      {
        "duration": 7,
        "start_time": "2022-04-05T07:14:40.668Z"
      },
      {
        "duration": 23,
        "start_time": "2022-04-05T07:14:40.678Z"
      },
      {
        "duration": 412,
        "start_time": "2022-04-05T07:14:40.704Z"
      },
      {
        "duration": 9,
        "start_time": "2022-04-05T07:14:41.118Z"
      },
      {
        "duration": 8,
        "start_time": "2022-04-05T07:14:41.130Z"
      },
      {
        "duration": 9,
        "start_time": "2022-04-05T07:14:41.168Z"
      },
      {
        "duration": 10,
        "start_time": "2022-04-05T07:14:41.180Z"
      },
      {
        "duration": 8,
        "start_time": "2022-04-05T07:14:41.192Z"
      },
      {
        "duration": 18,
        "start_time": "2022-04-05T07:14:41.203Z"
      },
      {
        "duration": 50,
        "start_time": "2022-04-05T07:14:41.224Z"
      },
      {
        "duration": 7,
        "start_time": "2022-04-05T07:14:41.277Z"
      },
      {
        "duration": 11,
        "start_time": "2022-04-05T07:14:41.286Z"
      },
      {
        "duration": 77,
        "start_time": "2022-04-05T07:14:41.299Z"
      },
      {
        "duration": 11,
        "start_time": "2022-04-05T07:14:41.379Z"
      },
      {
        "duration": 23,
        "start_time": "2022-04-05T07:14:41.392Z"
      },
      {
        "duration": 63,
        "start_time": "2022-04-05T07:14:41.418Z"
      },
      {
        "duration": 41,
        "start_time": "2022-04-05T07:14:41.484Z"
      },
      {
        "duration": 58,
        "start_time": "2022-04-05T07:14:41.528Z"
      },
      {
        "duration": 3,
        "start_time": "2022-04-05T07:14:41.589Z"
      },
      {
        "duration": 5,
        "start_time": "2022-04-05T07:14:41.595Z"
      },
      {
        "duration": 17,
        "start_time": "2022-04-05T07:14:41.602Z"
      },
      {
        "duration": 53,
        "start_time": "2022-04-05T07:14:41.621Z"
      },
      {
        "duration": 18,
        "start_time": "2022-04-05T07:14:41.676Z"
      },
      {
        "duration": 4,
        "start_time": "2022-04-05T07:14:41.696Z"
      },
      {
        "duration": 89,
        "start_time": "2022-04-05T07:14:41.703Z"
      },
      {
        "duration": 7,
        "start_time": "2022-04-05T07:14:41.799Z"
      },
      {
        "duration": 4406,
        "start_time": "2022-04-05T07:14:41.808Z"
      },
      {
        "duration": 12,
        "start_time": "2022-04-05T07:14:46.217Z"
      },
      {
        "duration": 38,
        "start_time": "2022-04-05T07:14:46.231Z"
      },
      {
        "duration": 38,
        "start_time": "2022-04-05T07:14:46.271Z"
      },
      {
        "duration": 27,
        "start_time": "2022-04-05T07:14:46.311Z"
      },
      {
        "duration": 47,
        "start_time": "2022-04-05T07:14:46.340Z"
      },
      {
        "duration": 24,
        "start_time": "2022-04-05T07:14:46.389Z"
      },
      {
        "duration": 54,
        "start_time": "2022-04-05T07:14:46.415Z"
      },
      {
        "duration": 473,
        "start_time": "2022-04-05T07:16:02.494Z"
      },
      {
        "duration": 75,
        "start_time": "2022-04-05T07:16:02.970Z"
      },
      {
        "duration": 36,
        "start_time": "2022-04-05T07:16:03.048Z"
      },
      {
        "duration": 21,
        "start_time": "2022-04-05T07:16:03.086Z"
      },
      {
        "duration": 4,
        "start_time": "2022-04-05T07:16:03.110Z"
      },
      {
        "duration": 16,
        "start_time": "2022-04-05T07:16:03.116Z"
      },
      {
        "duration": 45,
        "start_time": "2022-04-05T07:16:03.134Z"
      },
      {
        "duration": 19,
        "start_time": "2022-04-05T07:16:03.181Z"
      },
      {
        "duration": 24,
        "start_time": "2022-04-05T07:16:03.202Z"
      },
      {
        "duration": 10,
        "start_time": "2022-04-05T07:16:03.268Z"
      },
      {
        "duration": 22,
        "start_time": "2022-04-05T07:16:03.281Z"
      },
      {
        "duration": 7,
        "start_time": "2022-04-05T07:16:03.306Z"
      },
      {
        "duration": 545,
        "start_time": "2022-04-05T07:16:03.316Z"
      },
      {
        "duration": 10,
        "start_time": "2022-04-05T07:16:03.869Z"
      },
      {
        "duration": 8,
        "start_time": "2022-04-05T07:16:03.880Z"
      },
      {
        "duration": 11,
        "start_time": "2022-04-05T07:16:03.890Z"
      },
      {
        "duration": 20,
        "start_time": "2022-04-05T07:16:03.903Z"
      },
      {
        "duration": 430,
        "start_time": "2022-04-05T07:16:03.925Z"
      },
      {
        "duration": 13,
        "start_time": "2022-04-05T07:16:04.358Z"
      },
      {
        "duration": 8,
        "start_time": "2022-04-05T07:16:04.373Z"
      },
      {
        "duration": 8,
        "start_time": "2022-04-05T07:16:04.383Z"
      },
      {
        "duration": 6,
        "start_time": "2022-04-05T07:16:04.393Z"
      },
      {
        "duration": 8,
        "start_time": "2022-04-05T07:16:04.401Z"
      },
      {
        "duration": 68,
        "start_time": "2022-04-05T07:16:04.411Z"
      },
      {
        "duration": 8,
        "start_time": "2022-04-05T07:16:04.482Z"
      },
      {
        "duration": 7,
        "start_time": "2022-04-05T07:16:04.492Z"
      },
      {
        "duration": 9,
        "start_time": "2022-04-05T07:16:04.501Z"
      },
      {
        "duration": 72,
        "start_time": "2022-04-05T07:16:04.512Z"
      },
      {
        "duration": 9,
        "start_time": "2022-04-05T07:16:04.587Z"
      },
      {
        "duration": 23,
        "start_time": "2022-04-05T07:16:04.598Z"
      },
      {
        "duration": 67,
        "start_time": "2022-04-05T07:16:04.623Z"
      },
      {
        "duration": 49,
        "start_time": "2022-04-05T07:16:04.692Z"
      },
      {
        "duration": 49,
        "start_time": "2022-04-05T07:16:04.744Z"
      },
      {
        "duration": 3,
        "start_time": "2022-04-05T07:16:04.796Z"
      },
      {
        "duration": 7,
        "start_time": "2022-04-05T07:16:04.801Z"
      },
      {
        "duration": 22,
        "start_time": "2022-04-05T07:16:04.810Z"
      },
      {
        "duration": 42,
        "start_time": "2022-04-05T07:16:04.834Z"
      },
      {
        "duration": 16,
        "start_time": "2022-04-05T07:16:04.879Z"
      },
      {
        "duration": 4,
        "start_time": "2022-04-05T07:16:04.897Z"
      },
      {
        "duration": 84,
        "start_time": "2022-04-05T07:16:04.902Z"
      },
      {
        "duration": 6,
        "start_time": "2022-04-05T07:16:04.991Z"
      },
      {
        "duration": 4810,
        "start_time": "2022-04-05T07:16:04.999Z"
      },
      {
        "duration": 14,
        "start_time": "2022-04-05T07:16:09.812Z"
      },
      {
        "duration": 15,
        "start_time": "2022-04-05T07:16:09.828Z"
      },
      {
        "duration": 30,
        "start_time": "2022-04-05T07:16:09.866Z"
      },
      {
        "duration": 26,
        "start_time": "2022-04-05T07:16:09.898Z"
      },
      {
        "duration": 54,
        "start_time": "2022-04-05T07:16:09.927Z"
      },
      {
        "duration": 26,
        "start_time": "2022-04-05T07:16:09.983Z"
      },
      {
        "duration": 24,
        "start_time": "2022-04-05T07:16:10.012Z"
      }
    ],
    "kernelspec": {
      "name": "python",
      "display_name": "Python (Pyodide)",
      "language": "python"
    },
    "language_info": {
      "codemirror_mode": {
        "name": "python",
        "version": 3
      },
      "file_extension": ".py",
      "mimetype": "text/x-python",
      "name": "python",
      "nbconvert_exporter": "python",
      "pygments_lexer": "ipython3",
      "version": "3.8"
    },
    "toc": {
      "base_numbering": 1,
      "nav_menu": {},
      "number_sections": true,
      "sideBar": true,
      "skip_h1_title": true,
      "title_cell": "Table of Contents",
      "title_sidebar": "Contents",
      "toc_cell": false,
      "toc_position": {},
      "toc_section_display": true,
      "toc_window_display": false
    }
  },
  "nbformat_minor": 5,
  "nbformat": 4,
  "cells": [
    {
      "cell_type": "markdown",
      "source": "# Исследование надежности заемщиков.\n\n  Заказчик — кредитный отдел банка. Нужно разобраться, влияет ли семейное положение и количество детей клиента на факт погашения кредита в срок. Входные данные от банка — статистика о платёжеспособности клиентов.\n  Результаты исследования будут учтены при построении модели кредитного скоринга — специальной системы, которая оценивает способность потенциального заёмщика вернуть кредит банку.\n",
      "metadata": {},
      "id": "3aab09ba"
    },
    {
      "cell_type": "markdown",
      "source": "### Шаг 1. Обзор данных",
      "metadata": {},
      "id": "2c322ff9"
    },
    {
      "cell_type": "markdown",
      "source": "Составим первое представление о данных статистики платёжеспособности клиентов.",
      "metadata": {},
      "id": "176dc846"
    },
    {
      "cell_type": "code",
      "source": "import pandas as pd # импорт библиотеки pandas",
      "metadata": {},
      "execution_count": 1,
      "outputs": [],
      "id": "855b2df9"
    },
    {
      "cell_type": "code",
      "source": "df = pd.read_csv('/datasets/data.csv')  # чтение файла с данными и сохранение в df",
      "metadata": {},
      "execution_count": 2,
      "outputs": [],
      "id": "e36918d2"
    },
    {
      "cell_type": "code",
      "source": "df.head(10) # получение первых 10 строк таблицы df",
      "metadata": {
        "scrolled": true
      },
      "execution_count": 3,
      "outputs": [
        {
          "execution_count": 3,
          "output_type": "execute_result",
          "data": {
            "text/html": [
              "<div>\n",
              "<style scoped>\n",
              "    .dataframe tbody tr th:only-of-type {\n",
              "        vertical-align: middle;\n",
              "    }\n",
              "\n",
              "    .dataframe tbody tr th {\n",
              "        vertical-align: top;\n",
              "    }\n",
              "\n",
              "    .dataframe thead th {\n",
              "        text-align: right;\n",
              "    }\n",
              "</style>\n",
              "<table border=\"1\" class=\"dataframe\">\n",
              "  <thead>\n",
              "    <tr style=\"text-align: right;\">\n",
              "      <th></th>\n",
              "      <th>children</th>\n",
              "      <th>days_employed</th>\n",
              "      <th>dob_years</th>\n",
              "      <th>education</th>\n",
              "      <th>education_id</th>\n",
              "      <th>family_status</th>\n",
              "      <th>family_status_id</th>\n",
              "      <th>gender</th>\n",
              "      <th>income_type</th>\n",
              "      <th>debt</th>\n",
              "      <th>total_income</th>\n",
              "      <th>purpose</th>\n",
              "    </tr>\n",
              "  </thead>\n",
              "  <tbody>\n",
              "    <tr>\n",
              "      <th>0</th>\n",
              "      <td>1</td>\n",
              "      <td>-8437.673028</td>\n",
              "      <td>42</td>\n",
              "      <td>высшее</td>\n",
              "      <td>0</td>\n",
              "      <td>женат / замужем</td>\n",
              "      <td>0</td>\n",
              "      <td>F</td>\n",
              "      <td>сотрудник</td>\n",
              "      <td>0</td>\n",
              "      <td>253875.639453</td>\n",
              "      <td>покупка жилья</td>\n",
              "    </tr>\n",
              "    <tr>\n",
              "      <th>1</th>\n",
              "      <td>1</td>\n",
              "      <td>-4024.803754</td>\n",
              "      <td>36</td>\n",
              "      <td>среднее</td>\n",
              "      <td>1</td>\n",
              "      <td>женат / замужем</td>\n",
              "      <td>0</td>\n",
              "      <td>F</td>\n",
              "      <td>сотрудник</td>\n",
              "      <td>0</td>\n",
              "      <td>112080.014102</td>\n",
              "      <td>приобретение автомобиля</td>\n",
              "    </tr>\n",
              "    <tr>\n",
              "      <th>2</th>\n",
              "      <td>0</td>\n",
              "      <td>-5623.422610</td>\n",
              "      <td>33</td>\n",
              "      <td>Среднее</td>\n",
              "      <td>1</td>\n",
              "      <td>женат / замужем</td>\n",
              "      <td>0</td>\n",
              "      <td>M</td>\n",
              "      <td>сотрудник</td>\n",
              "      <td>0</td>\n",
              "      <td>145885.952297</td>\n",
              "      <td>покупка жилья</td>\n",
              "    </tr>\n",
              "    <tr>\n",
              "      <th>3</th>\n",
              "      <td>3</td>\n",
              "      <td>-4124.747207</td>\n",
              "      <td>32</td>\n",
              "      <td>среднее</td>\n",
              "      <td>1</td>\n",
              "      <td>женат / замужем</td>\n",
              "      <td>0</td>\n",
              "      <td>M</td>\n",
              "      <td>сотрудник</td>\n",
              "      <td>0</td>\n",
              "      <td>267628.550329</td>\n",
              "      <td>дополнительное образование</td>\n",
              "    </tr>\n",
              "    <tr>\n",
              "      <th>4</th>\n",
              "      <td>0</td>\n",
              "      <td>340266.072047</td>\n",
              "      <td>53</td>\n",
              "      <td>среднее</td>\n",
              "      <td>1</td>\n",
              "      <td>гражданский брак</td>\n",
              "      <td>1</td>\n",
              "      <td>F</td>\n",
              "      <td>пенсионер</td>\n",
              "      <td>0</td>\n",
              "      <td>158616.077870</td>\n",
              "      <td>сыграть свадьбу</td>\n",
              "    </tr>\n",
              "    <tr>\n",
              "      <th>5</th>\n",
              "      <td>0</td>\n",
              "      <td>-926.185831</td>\n",
              "      <td>27</td>\n",
              "      <td>высшее</td>\n",
              "      <td>0</td>\n",
              "      <td>гражданский брак</td>\n",
              "      <td>1</td>\n",
              "      <td>M</td>\n",
              "      <td>компаньон</td>\n",
              "      <td>0</td>\n",
              "      <td>255763.565419</td>\n",
              "      <td>покупка жилья</td>\n",
              "    </tr>\n",
              "    <tr>\n",
              "      <th>6</th>\n",
              "      <td>0</td>\n",
              "      <td>-2879.202052</td>\n",
              "      <td>43</td>\n",
              "      <td>высшее</td>\n",
              "      <td>0</td>\n",
              "      <td>женат / замужем</td>\n",
              "      <td>0</td>\n",
              "      <td>F</td>\n",
              "      <td>компаньон</td>\n",
              "      <td>0</td>\n",
              "      <td>240525.971920</td>\n",
              "      <td>операции с жильем</td>\n",
              "    </tr>\n",
              "    <tr>\n",
              "      <th>7</th>\n",
              "      <td>0</td>\n",
              "      <td>-152.779569</td>\n",
              "      <td>50</td>\n",
              "      <td>СРЕДНЕЕ</td>\n",
              "      <td>1</td>\n",
              "      <td>женат / замужем</td>\n",
              "      <td>0</td>\n",
              "      <td>M</td>\n",
              "      <td>сотрудник</td>\n",
              "      <td>0</td>\n",
              "      <td>135823.934197</td>\n",
              "      <td>образование</td>\n",
              "    </tr>\n",
              "    <tr>\n",
              "      <th>8</th>\n",
              "      <td>2</td>\n",
              "      <td>-6929.865299</td>\n",
              "      <td>35</td>\n",
              "      <td>ВЫСШЕЕ</td>\n",
              "      <td>0</td>\n",
              "      <td>гражданский брак</td>\n",
              "      <td>1</td>\n",
              "      <td>F</td>\n",
              "      <td>сотрудник</td>\n",
              "      <td>0</td>\n",
              "      <td>95856.832424</td>\n",
              "      <td>на проведение свадьбы</td>\n",
              "    </tr>\n",
              "    <tr>\n",
              "      <th>9</th>\n",
              "      <td>0</td>\n",
              "      <td>-2188.756445</td>\n",
              "      <td>41</td>\n",
              "      <td>среднее</td>\n",
              "      <td>1</td>\n",
              "      <td>женат / замужем</td>\n",
              "      <td>0</td>\n",
              "      <td>M</td>\n",
              "      <td>сотрудник</td>\n",
              "      <td>0</td>\n",
              "      <td>144425.938277</td>\n",
              "      <td>покупка жилья для семьи</td>\n",
              "    </tr>\n",
              "  </tbody>\n",
              "</table>\n",
              "</div>"
            ],
            "text/plain": [
              "   children  days_employed  dob_years education  education_id  \\\n",
              "0         1   -8437.673028         42    высшее             0   \n",
              "1         1   -4024.803754         36   среднее             1   \n",
              "2         0   -5623.422610         33   Среднее             1   \n",
              "3         3   -4124.747207         32   среднее             1   \n",
              "4         0  340266.072047         53   среднее             1   \n",
              "5         0    -926.185831         27    высшее             0   \n",
              "6         0   -2879.202052         43    высшее             0   \n",
              "7         0    -152.779569         50   СРЕДНЕЕ             1   \n",
              "8         2   -6929.865299         35    ВЫСШЕЕ             0   \n",
              "9         0   -2188.756445         41   среднее             1   \n",
              "\n",
              "      family_status  family_status_id gender income_type  debt   total_income  \\\n",
              "0   женат / замужем                 0      F   сотрудник     0  253875.639453   \n",
              "1   женат / замужем                 0      F   сотрудник     0  112080.014102   \n",
              "2   женат / замужем                 0      M   сотрудник     0  145885.952297   \n",
              "3   женат / замужем                 0      M   сотрудник     0  267628.550329   \n",
              "4  гражданский брак                 1      F   пенсионер     0  158616.077870   \n",
              "5  гражданский брак                 1      M   компаньон     0  255763.565419   \n",
              "6   женат / замужем                 0      F   компаньон     0  240525.971920   \n",
              "7   женат / замужем                 0      M   сотрудник     0  135823.934197   \n",
              "8  гражданский брак                 1      F   сотрудник     0   95856.832424   \n",
              "9   женат / замужем                 0      M   сотрудник     0  144425.938277   \n",
              "\n",
              "                      purpose  \n",
              "0               покупка жилья  \n",
              "1     приобретение автомобиля  \n",
              "2               покупка жилья  \n",
              "3  дополнительное образование  \n",
              "4             сыграть свадьбу  \n",
              "5               покупка жилья  \n",
              "6           операции с жильем  \n",
              "7                 образование  \n",
              "8       на проведение свадьбы  \n",
              "9     покупка жилья для семьи  "
            ]
          },
          "metadata": {}
        }
      ],
      "id": "1bfdc7b9"
    },
    {
      "cell_type": "code",
      "source": "df.info()  # получение общей информации о данных в таблице df",
      "metadata": {},
      "execution_count": 4,
      "outputs": [
        {
          "name": "stdout",
          "output_type": "stream",
          "text": "<class 'pandas.core.frame.DataFrame'>\n\nRangeIndex: 21525 entries, 0 to 21524\n\nData columns (total 12 columns):\n\n #   Column            Non-Null Count  Dtype  \n\n---  ------            --------------  -----  \n\n 0   children          21525 non-null  int64  \n\n 1   days_employed     19351 non-null  float64\n\n 2   dob_years         21525 non-null  int64  \n\n 3   education         21525 non-null  object \n\n 4   education_id      21525 non-null  int64  \n\n 5   family_status     21525 non-null  object \n\n 6   family_status_id  21525 non-null  int64  \n\n 7   gender            21525 non-null  object \n\n 8   income_type       21525 non-null  object \n\n 9   debt              21525 non-null  int64  \n\n 10  total_income      19351 non-null  float64\n\n 11  purpose           21525 non-null  object \n\ndtypes: float64(2), int64(5), object(5)\n\nmemory usage: 2.0+ MB\n"
        }
      ],
      "id": "e6331ad1"
    },
    {
      "cell_type": "markdown",
      "source": "В таблице 12 столбцов. Тип данных в столбцах разный — `object`, `int64`, `float64`.\n\nСогласно документации к данным:\n* `children ` — количество детей в семье;\n* `days_employed` — общий трудовой стаж в днях;  \n* `dob_years` — возраст клиента в годах;\n* `education` — уровень образования клиента;\n* `education_id` — идентификатор уровня образования;\n* `family_status` — семейное положение;\n* `family_status_id` — идентификатор семейного положения;\n* `gender ` — пол клиента;\n* `income_type ` — тип занятости ;\n* `debt` — имел ли задолженность по возврату кредитов;\n* `total_income` — ежемесячный доход;\n* `purpose` — цель получения кредита.\n\nНазвания столбцов не содержат пробелов, все знаки в одном регистре и на одном языке. \nCтолбец days_employed содержит нехарактерные для него значения (отрицательные), столбец education - данные, записанные в разном регистре(наличие дубликатов).\nКоличество значений в столбцах days_employed и total_income имеют одинаковые количество non-null.  Вероятно это те у кого еще нет стажа работы и соответственно они еще не зарабатывают. Необходимо будет выяснить возраст таких клиентов.\nТипы столбцов соответствуют информации хранящихся в них.\n",
      "metadata": {},
      "id": "e4e7ac42"
    },
    {
      "cell_type": "markdown",
      "source": "### Шаг 2.1 Заполнение пропусков",
      "metadata": {},
      "id": "add5e8fa"
    },
    {
      "cell_type": "code",
      "source": "#print(f'Процент отсутствующих значений = {(21525-19351)/21525:,.2%}')",
      "metadata": {},
      "execution_count": 5,
      "outputs": [],
      "id": "fd18370a"
    },
    {
      "cell_type": "code",
      "source": "df.isna().mean()",
      "metadata": {},
      "execution_count": 6,
      "outputs": [
        {
          "execution_count": 6,
          "output_type": "execute_result",
          "data": {
            "text/plain": [
              "children            0.000000\n",
              "days_employed       0.100999\n",
              "dob_years           0.000000\n",
              "education           0.000000\n",
              "education_id        0.000000\n",
              "family_status       0.000000\n",
              "family_status_id    0.000000\n",
              "gender              0.000000\n",
              "income_type         0.000000\n",
              "debt                0.000000\n",
              "total_income        0.100999\n",
              "purpose             0.000000\n",
              "dtype: float64"
            ]
          },
          "metadata": {}
        }
      ],
      "id": "1f10cd89"
    },
    {
      "cell_type": "markdown",
      "source": "Доля пропущенных значений в каждом из столбцов с пропусками составляет 10.1%. Это довольно большой процент, значение которого нужно исправлять.",
      "metadata": {},
      "id": "6ce735cb"
    },
    {
      "cell_type": "markdown",
      "source": "Мы обнаружили явные пропуски в данных столбцах. Теперь проверим столбцы и разберемся в причине их возникновения",
      "metadata": {},
      "id": "3db2fa41"
    },
    {
      "cell_type": "markdown",
      "source": "Столбец 'days_employed'",
      "metadata": {},
      "id": "cbe1dc87"
    },
    {
      "cell_type": "code",
      "source": "print(df['days_employed'])\nprint()\nprint(\"Отрицательные значения = \",df[df['days_employed']<0]['days_employed'].count())\nprint()\ndays_employed_median = df['days_employed'].median()\nprint(days_employed_median)",
      "metadata": {},
      "execution_count": 7,
      "outputs": [
        {
          "name": "stdout",
          "output_type": "stream",
          "text": "0         -8437.673028\n\n1         -4024.803754\n\n2         -5623.422610\n\n3         -4124.747207\n\n4        340266.072047\n\n             ...      \n\n21520     -4529.316663\n\n21521    343937.404131\n\n21522     -2113.346888\n\n21523     -3112.481705\n\n21524     -1984.507589\n\nName: days_employed, Length: 21525, dtype: float64\n\n\n\nОтрицательные значения =  15906\n\n\n\n-1203.369528770489\n"
        }
      ],
      "id": "eb2a2886"
    },
    {
      "cell_type": "markdown",
      "source": "Из полученного результата мы видим, что присутствуют слишком большие значения столбца(неизвестны единицы измерения) и много отрицательных значений - оба варианта недопустимы.\n",
      "metadata": {},
      "id": "23a5b424"
    },
    {
      "cell_type": "code",
      "source": "#заменим отрицательные числа на положительные в стаже\ndef negative_to_pozitive(value):\n    if value < 0:\n        value *= -1\n        return value\n    else:\n        return value\n\ndf['days_employed'] = df['days_employed'].apply(negative_to_pozitive)\ndf['days_employed'] = df['days_employed'].fillna(days_employed_median)\nprint(df['days_employed'])\n",
      "metadata": {},
      "execution_count": 8,
      "outputs": [
        {
          "name": "stdout",
          "output_type": "stream",
          "text": "0          8437.673028\n\n1          4024.803754\n\n2          5623.422610\n\n3          4124.747207\n\n4        340266.072047\n\n             ...      \n\n21520      4529.316663\n\n21521    343937.404131\n\n21522      2113.346888\n\n21523      3112.481705\n\n21524      1984.507589\n\nName: days_employed, Length: 21525, dtype: float64\n"
        }
      ],
      "id": "ba7a166f"
    },
    {
      "cell_type": "markdown",
      "source": "В стаже отрицательные числа сделали положительными, пропуски заменили на медианное значение.\nЕсли бы была возможность уточнить данные значения у заказчика, то можно было бы внести исправления. ",
      "metadata": {},
      "id": "42535a3d"
    },
    {
      "cell_type": "markdown",
      "source": "Столбец 'total_income'",
      "metadata": {},
      "id": "3fee67a2"
    },
    {
      "cell_type": "code",
      "source": "print(df['total_income']) \ndisplay(df[df['total_income'].isnull()].head(10))",
      "metadata": {},
      "execution_count": 9,
      "outputs": [
        {
          "name": "stdout",
          "output_type": "stream",
          "text": "0        253875.639453\n\n1        112080.014102\n\n2        145885.952297\n\n3        267628.550329\n\n4        158616.077870\n\n             ...      \n\n21520    224791.862382\n\n21521    155999.806512\n\n21522     89672.561153\n\n21523    244093.050500\n\n21524     82047.418899\n\nName: total_income, Length: 21525, dtype: float64\n"
        },
        {
          "output_type": "display_data",
          "data": {
            "text/html": [
              "<div>\n",
              "<style scoped>\n",
              "    .dataframe tbody tr th:only-of-type {\n",
              "        vertical-align: middle;\n",
              "    }\n",
              "\n",
              "    .dataframe tbody tr th {\n",
              "        vertical-align: top;\n",
              "    }\n",
              "\n",
              "    .dataframe thead th {\n",
              "        text-align: right;\n",
              "    }\n",
              "</style>\n",
              "<table border=\"1\" class=\"dataframe\">\n",
              "  <thead>\n",
              "    <tr style=\"text-align: right;\">\n",
              "      <th></th>\n",
              "      <th>children</th>\n",
              "      <th>days_employed</th>\n",
              "      <th>dob_years</th>\n",
              "      <th>education</th>\n",
              "      <th>education_id</th>\n",
              "      <th>family_status</th>\n",
              "      <th>family_status_id</th>\n",
              "      <th>gender</th>\n",
              "      <th>income_type</th>\n",
              "      <th>debt</th>\n",
              "      <th>total_income</th>\n",
              "      <th>purpose</th>\n",
              "    </tr>\n",
              "  </thead>\n",
              "  <tbody>\n",
              "    <tr>\n",
              "      <th>12</th>\n",
              "      <td>0</td>\n",
              "      <td>-1203.369529</td>\n",
              "      <td>65</td>\n",
              "      <td>среднее</td>\n",
              "      <td>1</td>\n",
              "      <td>гражданский брак</td>\n",
              "      <td>1</td>\n",
              "      <td>M</td>\n",
              "      <td>пенсионер</td>\n",
              "      <td>0</td>\n",
              "      <td>NaN</td>\n",
              "      <td>сыграть свадьбу</td>\n",
              "    </tr>\n",
              "    <tr>\n",
              "      <th>26</th>\n",
              "      <td>0</td>\n",
              "      <td>-1203.369529</td>\n",
              "      <td>41</td>\n",
              "      <td>среднее</td>\n",
              "      <td>1</td>\n",
              "      <td>женат / замужем</td>\n",
              "      <td>0</td>\n",
              "      <td>M</td>\n",
              "      <td>госслужащий</td>\n",
              "      <td>0</td>\n",
              "      <td>NaN</td>\n",
              "      <td>образование</td>\n",
              "    </tr>\n",
              "    <tr>\n",
              "      <th>29</th>\n",
              "      <td>0</td>\n",
              "      <td>-1203.369529</td>\n",
              "      <td>63</td>\n",
              "      <td>среднее</td>\n",
              "      <td>1</td>\n",
              "      <td>Не женат / не замужем</td>\n",
              "      <td>4</td>\n",
              "      <td>F</td>\n",
              "      <td>пенсионер</td>\n",
              "      <td>0</td>\n",
              "      <td>NaN</td>\n",
              "      <td>строительство жилой недвижимости</td>\n",
              "    </tr>\n",
              "    <tr>\n",
              "      <th>41</th>\n",
              "      <td>0</td>\n",
              "      <td>-1203.369529</td>\n",
              "      <td>50</td>\n",
              "      <td>среднее</td>\n",
              "      <td>1</td>\n",
              "      <td>женат / замужем</td>\n",
              "      <td>0</td>\n",
              "      <td>F</td>\n",
              "      <td>госслужащий</td>\n",
              "      <td>0</td>\n",
              "      <td>NaN</td>\n",
              "      <td>сделка с подержанным автомобилем</td>\n",
              "    </tr>\n",
              "    <tr>\n",
              "      <th>55</th>\n",
              "      <td>0</td>\n",
              "      <td>-1203.369529</td>\n",
              "      <td>54</td>\n",
              "      <td>среднее</td>\n",
              "      <td>1</td>\n",
              "      <td>гражданский брак</td>\n",
              "      <td>1</td>\n",
              "      <td>F</td>\n",
              "      <td>пенсионер</td>\n",
              "      <td>1</td>\n",
              "      <td>NaN</td>\n",
              "      <td>сыграть свадьбу</td>\n",
              "    </tr>\n",
              "    <tr>\n",
              "      <th>65</th>\n",
              "      <td>0</td>\n",
              "      <td>-1203.369529</td>\n",
              "      <td>21</td>\n",
              "      <td>среднее</td>\n",
              "      <td>1</td>\n",
              "      <td>Не женат / не замужем</td>\n",
              "      <td>4</td>\n",
              "      <td>M</td>\n",
              "      <td>компаньон</td>\n",
              "      <td>0</td>\n",
              "      <td>NaN</td>\n",
              "      <td>операции с коммерческой недвижимостью</td>\n",
              "    </tr>\n",
              "    <tr>\n",
              "      <th>67</th>\n",
              "      <td>0</td>\n",
              "      <td>-1203.369529</td>\n",
              "      <td>52</td>\n",
              "      <td>высшее</td>\n",
              "      <td>0</td>\n",
              "      <td>женат / замужем</td>\n",
              "      <td>0</td>\n",
              "      <td>F</td>\n",
              "      <td>пенсионер</td>\n",
              "      <td>0</td>\n",
              "      <td>NaN</td>\n",
              "      <td>покупка жилья для семьи</td>\n",
              "    </tr>\n",
              "    <tr>\n",
              "      <th>72</th>\n",
              "      <td>1</td>\n",
              "      <td>-1203.369529</td>\n",
              "      <td>32</td>\n",
              "      <td>высшее</td>\n",
              "      <td>0</td>\n",
              "      <td>женат / замужем</td>\n",
              "      <td>0</td>\n",
              "      <td>M</td>\n",
              "      <td>госслужащий</td>\n",
              "      <td>0</td>\n",
              "      <td>NaN</td>\n",
              "      <td>операции с коммерческой недвижимостью</td>\n",
              "    </tr>\n",
              "    <tr>\n",
              "      <th>82</th>\n",
              "      <td>2</td>\n",
              "      <td>-1203.369529</td>\n",
              "      <td>50</td>\n",
              "      <td>высшее</td>\n",
              "      <td>0</td>\n",
              "      <td>женат / замужем</td>\n",
              "      <td>0</td>\n",
              "      <td>F</td>\n",
              "      <td>сотрудник</td>\n",
              "      <td>0</td>\n",
              "      <td>NaN</td>\n",
              "      <td>жилье</td>\n",
              "    </tr>\n",
              "    <tr>\n",
              "      <th>83</th>\n",
              "      <td>0</td>\n",
              "      <td>-1203.369529</td>\n",
              "      <td>52</td>\n",
              "      <td>среднее</td>\n",
              "      <td>1</td>\n",
              "      <td>женат / замужем</td>\n",
              "      <td>0</td>\n",
              "      <td>M</td>\n",
              "      <td>сотрудник</td>\n",
              "      <td>0</td>\n",
              "      <td>NaN</td>\n",
              "      <td>жилье</td>\n",
              "    </tr>\n",
              "  </tbody>\n",
              "</table>\n",
              "</div>"
            ],
            "text/plain": [
              "    children  days_employed  dob_years education  education_id  \\\n",
              "12         0   -1203.369529         65   среднее             1   \n",
              "26         0   -1203.369529         41   среднее             1   \n",
              "29         0   -1203.369529         63   среднее             1   \n",
              "41         0   -1203.369529         50   среднее             1   \n",
              "55         0   -1203.369529         54   среднее             1   \n",
              "65         0   -1203.369529         21   среднее             1   \n",
              "67         0   -1203.369529         52    высшее             0   \n",
              "72         1   -1203.369529         32    высшее             0   \n",
              "82         2   -1203.369529         50    высшее             0   \n",
              "83         0   -1203.369529         52   среднее             1   \n",
              "\n",
              "            family_status  family_status_id gender  income_type  debt  \\\n",
              "12       гражданский брак                 1      M    пенсионер     0   \n",
              "26        женат / замужем                 0      M  госслужащий     0   \n",
              "29  Не женат / не замужем                 4      F    пенсионер     0   \n",
              "41        женат / замужем                 0      F  госслужащий     0   \n",
              "55       гражданский брак                 1      F    пенсионер     1   \n",
              "65  Не женат / не замужем                 4      M    компаньон     0   \n",
              "67        женат / замужем                 0      F    пенсионер     0   \n",
              "72        женат / замужем                 0      M  госслужащий     0   \n",
              "82        женат / замужем                 0      F    сотрудник     0   \n",
              "83        женат / замужем                 0      M    сотрудник     0   \n",
              "\n",
              "    total_income                                purpose  \n",
              "12           NaN                        сыграть свадьбу  \n",
              "26           NaN                            образование  \n",
              "29           NaN       строительство жилой недвижимости  \n",
              "41           NaN       сделка с подержанным автомобилем  \n",
              "55           NaN                        сыграть свадьбу  \n",
              "65           NaN  операции с коммерческой недвижимостью  \n",
              "67           NaN                покупка жилья для семьи  \n",
              "72           NaN  операции с коммерческой недвижимостью  \n",
              "82           NaN                                  жилье  \n",
              "83           NaN                                  жилье  "
            ]
          },
          "metadata": {}
        }
      ],
      "id": "5a6fa9db"
    },
    {
      "cell_type": "markdown",
      "source": "Мы вывели 10 строчек: по столбцу \"dob_years\" видно , что возраст варьируется от 21 до 65. Значит предположение ,что это никогда неработавшие - ложно. Во всех остальных столбцах тоже стоят разные значения. Значит будем заполнять 'total_income' средним значением (median).",
      "metadata": {},
      "id": "fbbdb634"
    },
    {
      "cell_type": "code",
      "source": "total_income_median = df['total_income'].median() #найдем медиану дохода\nprint(total_income_median)\nprint()\ndf['total_income'] = df['total_income'].fillna(total_income_median)\nprint(df['total_income']) ",
      "metadata": {},
      "execution_count": 10,
      "outputs": [
        {
          "name": "stdout",
          "output_type": "stream",
          "text": "145017.93753253992\n\n\n\n0        253875.639453\n\n1        112080.014102\n\n2        145885.952297\n\n3        267628.550329\n\n4        158616.077870\n\n             ...      \n\n21520    224791.862382\n\n21521    155999.806512\n\n21522     89672.561153\n\n21523    244093.050500\n\n21524     82047.418899\n\nName: total_income, Length: 21525, dtype: float64\n"
        }
      ],
      "id": "2b52af42"
    },
    {
      "cell_type": "code",
      "source": "df.info()",
      "metadata": {},
      "execution_count": 11,
      "outputs": [
        {
          "name": "stdout",
          "output_type": "stream",
          "text": "<class 'pandas.core.frame.DataFrame'>\n\nRangeIndex: 21525 entries, 0 to 21524\n\nData columns (total 12 columns):\n\n #   Column            Non-Null Count  Dtype  \n\n---  ------            --------------  -----  \n\n 0   children          21525 non-null  int64  \n\n 1   days_employed     21525 non-null  float64\n\n 2   dob_years         21525 non-null  int64  \n\n 3   education         21525 non-null  object \n\n 4   education_id      21525 non-null  int64  \n\n 5   family_status     21525 non-null  object \n\n 6   family_status_id  21525 non-null  int64  \n\n 7   gender            21525 non-null  object \n\n 8   income_type       21525 non-null  object \n\n 9   debt              21525 non-null  int64  \n\n 10  total_income      21525 non-null  float64\n\n 11  purpose           21525 non-null  object \n\ndtypes: float64(2), int64(5), object(5)\n\nmemory usage: 2.0+ MB\n"
        }
      ],
      "id": "023ac8a3"
    },
    {
      "cell_type": "markdown",
      "source": "В данных случаях заполнить пропуски медианными значениями лучше, т.к они лучше характеризует данные, когда некоторые значения сильно выделяются среди большинства.",
      "metadata": {},
      "id": "41b64a22"
    },
    {
      "cell_type": "markdown",
      "source": "В данных могут встречаться артефакты (аномалии) — значения, которые не отражают действительность и появились по какой-то ошибке. Для реальных данных это нормально. Посмотрим на данные других столбцов.",
      "metadata": {},
      "id": "ba046ddd"
    },
    {
      "cell_type": "markdown",
      "source": "### Шаг 2.2 Проверка данных на аномалии и исправления.",
      "metadata": {},
      "id": "1a9857a0"
    },
    {
      "cell_type": "markdown",
      "source": "Столбец 'children'",
      "metadata": {},
      "id": "cd4152f0"
    },
    {
      "cell_type": "code",
      "source": "print(df['children'].value_counts())",
      "metadata": {},
      "execution_count": 12,
      "outputs": [
        {
          "name": "stdout",
          "output_type": "stream",
          "text": " 0     14149\n\n 1      4818\n\n 2      2055\n\n 3       330\n\n 20       76\n\n-1        47\n\n 4        41\n\n 5         9\n\nName: children, dtype: int64\n"
        }
      ],
      "id": "9ee47392"
    },
    {
      "cell_type": "markdown",
      "source": "Самое большое количество клиентов бездетных, затем по уменьшению, кто имеет 1, 2 и более детей. Аномальными значения являются 20 детей (76) и -1 (47). Эти значения маловероятны, тем более отрицательные значения. Количество таких семей составляет 0.56% от общего количества. Скорее этими данными можно принебречь, удалив их.",
      "metadata": {},
      "id": "0668c025"
    },
    {
      "cell_type": "code",
      "source": "i1 = df[df['children']==-1].index # индексы 47 строк где значение -1\nprint(i1)\ni20 = df[df['children']==20].index # индексы 76 строк где значение 20 \nprint(i20)\nprint()\n#Удаление аномальных значений\nstr_del_count=0\ntry:\n    for drop_str in i1:\n        df = df.drop(drop_str)\n        str_del_count+=1\nexcept:\n    print('Невозможно удалить строку')\nprint('Кол-во удаленных строк c \"-1\" =', str_del_count)\n\nstr_del_count=0\ntry:\n    for drop_str in i20:\n        df = df.drop(drop_str)\n        str_del_count+=1\nexcept:\n    print('Невозможно удалить строку')    \nprint('Кол-во удаленных строк c \"20\" =', str_del_count)\nprint()\n#Проверяем \nprint(df[df['children']==20].head())\nprint(df[df['children']==-1].head())\n  \ndf = df.reset_index(drop=True)\ndf.info()\n",
      "metadata": {},
      "execution_count": 13,
      "outputs": [
        {
          "name": "stdout",
          "output_type": "stream",
          "text": "Int64Index([  291,   705,   742,   800,   941,  1363,  1929,  2073,  3814,\n\n             4201,  4402,  4542,  5272,  6013,  6385,  7190,  7278,  7615,\n\n             7685,  8229,  8251,  8561,  9565,  9574, 10177, 10365, 10918,\n\n            11109, 11268, 11617, 12304, 13786, 14357, 15147, 15435, 16129,\n\n            16265, 17095, 17429, 17657, 18219, 19100, 19366, 19417, 20393,\n\n            20717, 21140],\n\n           dtype='int64')\n\nInt64Index([  606,   720,  1074,  2510,  2941,  3302,  3396,  3671,  3697,\n\n             3735,  3877,  5020,  5315,  5349,  5362,  6198,  6428,  7027,\n\n             7078,  7516,  7789,  7962,  8430,  8883,  8909,  8950,  9889,\n\n            10194, 10377, 10736, 10782, 11449, 11489, 11715, 11937, 12212,\n\n            12226, 12319, 12390, 12534, 12909, 12910, 13256, 13291, 13471,\n\n            13489, 13618, 14355, 14474, 14782, 15313, 15674, 15762, 15812,\n\n            15976, 16371, 16795, 16886, 17093, 17134, 17286, 17509, 18476,\n\n            18493, 18756, 18890, 19271, 19562, 19774, 20038, 20355, 21008,\n\n            21325, 21390, 21404, 21491],\n\n           dtype='int64')\n\n\n\nКол-во удаленных строк c \"-1\" = 47\n\nКол-во удаленных строк c \"20\" = 76\n\n\n\nEmpty DataFrame\n\nColumns: [children, days_employed, dob_years, education, education_id, family_status, family_status_id, gender, income_type, debt, total_income, purpose]\n\nIndex: []\n\nEmpty DataFrame\n\nColumns: [children, days_employed, dob_years, education, education_id, family_status, family_status_id, gender, income_type, debt, total_income, purpose]\n\nIndex: []\n\n<class 'pandas.core.frame.DataFrame'>\n\nRangeIndex: 21402 entries, 0 to 21401\n\nData columns (total 12 columns):\n\n #   Column            Non-Null Count  Dtype  \n\n---  ------            --------------  -----  \n\n 0   children          21402 non-null  int64  \n\n 1   days_employed     21402 non-null  float64\n\n 2   dob_years         21402 non-null  int64  \n\n 3   education         21402 non-null  object \n\n 4   education_id      21402 non-null  int64  \n\n 5   family_status     21402 non-null  object \n\n 6   family_status_id  21402 non-null  int64  \n\n 7   gender            21402 non-null  object \n\n 8   income_type       21402 non-null  object \n\n 9   debt              21402 non-null  int64  \n\n 10  total_income      21402 non-null  float64\n\n 11  purpose           21402 non-null  object \n\ndtypes: float64(2), int64(5), object(5)\n\nmemory usage: 2.0+ MB\n"
        }
      ],
      "id": "dea93639"
    },
    {
      "cell_type": "code",
      "source": "pd.DataFrame({'Кол-во заёмщиков по количеству детей':df['children'].value_counts()}) #столбец с новыми значениями",
      "metadata": {},
      "execution_count": 14,
      "outputs": [
        {
          "execution_count": 14,
          "output_type": "execute_result",
          "data": {
            "text/html": [
              "<div>\n",
              "<style scoped>\n",
              "    .dataframe tbody tr th:only-of-type {\n",
              "        vertical-align: middle;\n",
              "    }\n",
              "\n",
              "    .dataframe tbody tr th {\n",
              "        vertical-align: top;\n",
              "    }\n",
              "\n",
              "    .dataframe thead th {\n",
              "        text-align: right;\n",
              "    }\n",
              "</style>\n",
              "<table border=\"1\" class=\"dataframe\">\n",
              "  <thead>\n",
              "    <tr style=\"text-align: right;\">\n",
              "      <th></th>\n",
              "      <th>Кол-во заёмщиков по количеству детей</th>\n",
              "    </tr>\n",
              "  </thead>\n",
              "  <tbody>\n",
              "    <tr>\n",
              "      <th>0</th>\n",
              "      <td>14149</td>\n",
              "    </tr>\n",
              "    <tr>\n",
              "      <th>1</th>\n",
              "      <td>4818</td>\n",
              "    </tr>\n",
              "    <tr>\n",
              "      <th>2</th>\n",
              "      <td>2055</td>\n",
              "    </tr>\n",
              "    <tr>\n",
              "      <th>3</th>\n",
              "      <td>330</td>\n",
              "    </tr>\n",
              "    <tr>\n",
              "      <th>4</th>\n",
              "      <td>41</td>\n",
              "    </tr>\n",
              "    <tr>\n",
              "      <th>5</th>\n",
              "      <td>9</td>\n",
              "    </tr>\n",
              "  </tbody>\n",
              "</table>\n",
              "</div>"
            ],
            "text/plain": [
              "   Кол-во заёмщиков по количеству детей\n",
              "0                                 14149\n",
              "1                                  4818\n",
              "2                                  2055\n",
              "3                                   330\n",
              "4                                    41\n",
              "5                                     9"
            ]
          },
          "metadata": {}
        }
      ],
      "id": "12692722"
    },
    {
      "cell_type": "markdown",
      "source": "Столбец 'dob_years'",
      "metadata": {},
      "id": "53418ca4"
    },
    {
      "cell_type": "code",
      "source": "print(df['dob_years'].value_counts().sort_index())",
      "metadata": {},
      "execution_count": 16,
      "outputs": [
        {
          "name": "stdout",
          "output_type": "stream",
          "text": "0     100\n\n19     14\n\n20     51\n\n21    110\n\n22    183\n\n23    252\n\n24    263\n\n25    356\n\n26    406\n\n27    490\n\n28    501\n\n29    543\n\n30    536\n\n31    556\n\n32    506\n\n33    577\n\n34    597\n\n35    614\n\n36    553\n\n37    531\n\n38    595\n\n39    572\n\n40    603\n\n41    603\n\n42    592\n\n43    510\n\n44    543\n\n45    494\n\n46    469\n\n47    480\n\n48    536\n\n49    505\n\n50    509\n\n51    446\n\n52    483\n\n53    457\n\n54    476\n\n55    441\n\n56    482\n\n57    457\n\n58    461\n\n59    441\n\n60    376\n\n61    353\n\n62    351\n\n63    268\n\n64    263\n\n65    194\n\n66    183\n\n67    167\n\n68     99\n\n69     83\n\n70     65\n\n71     58\n\n72     33\n\n73      8\n\n74      6\n\n75      1\n\nName: dob_years, dtype: int64\n"
        }
      ],
      "id": "f2bba3c0"
    },
    {
      "cell_type": "markdown",
      "source": "Аномалией данного столбца является значение 0. Нужно проверить влияние данной аномалии и при возможности удалить, т.к процент таких значений равен всего 0.47 от общего количества.",
      "metadata": {},
      "id": "62aa482f"
    },
    {
      "cell_type": "code",
      "source": "display(df[df['dob_years']==0].head(10))",
      "metadata": {},
      "execution_count": 17,
      "outputs": [
        {
          "output_type": "display_data",
          "data": {
            "text/html": [
              "<div>\n",
              "<style scoped>\n",
              "    .dataframe tbody tr th:only-of-type {\n",
              "        vertical-align: middle;\n",
              "    }\n",
              "\n",
              "    .dataframe tbody tr th {\n",
              "        vertical-align: top;\n",
              "    }\n",
              "\n",
              "    .dataframe thead th {\n",
              "        text-align: right;\n",
              "    }\n",
              "</style>\n",
              "<table border=\"1\" class=\"dataframe\">\n",
              "  <thead>\n",
              "    <tr style=\"text-align: right;\">\n",
              "      <th></th>\n",
              "      <th>children</th>\n",
              "      <th>days_employed</th>\n",
              "      <th>dob_years</th>\n",
              "      <th>education</th>\n",
              "      <th>education_id</th>\n",
              "      <th>family_status</th>\n",
              "      <th>family_status_id</th>\n",
              "      <th>gender</th>\n",
              "      <th>income_type</th>\n",
              "      <th>debt</th>\n",
              "      <th>total_income</th>\n",
              "      <th>purpose</th>\n",
              "    </tr>\n",
              "  </thead>\n",
              "  <tbody>\n",
              "    <tr>\n",
              "      <th>99</th>\n",
              "      <td>0</td>\n",
              "      <td>346541.618895</td>\n",
              "      <td>0</td>\n",
              "      <td>Среднее</td>\n",
              "      <td>1</td>\n",
              "      <td>женат / замужем</td>\n",
              "      <td>0</td>\n",
              "      <td>F</td>\n",
              "      <td>пенсионер</td>\n",
              "      <td>0</td>\n",
              "      <td>71291.522491</td>\n",
              "      <td>автомобиль</td>\n",
              "    </tr>\n",
              "    <tr>\n",
              "      <th>149</th>\n",
              "      <td>0</td>\n",
              "      <td>2664.273168</td>\n",
              "      <td>0</td>\n",
              "      <td>среднее</td>\n",
              "      <td>1</td>\n",
              "      <td>в разводе</td>\n",
              "      <td>3</td>\n",
              "      <td>F</td>\n",
              "      <td>сотрудник</td>\n",
              "      <td>0</td>\n",
              "      <td>70176.435951</td>\n",
              "      <td>операции с жильем</td>\n",
              "    </tr>\n",
              "    <tr>\n",
              "      <th>270</th>\n",
              "      <td>3</td>\n",
              "      <td>1872.663186</td>\n",
              "      <td>0</td>\n",
              "      <td>среднее</td>\n",
              "      <td>1</td>\n",
              "      <td>женат / замужем</td>\n",
              "      <td>0</td>\n",
              "      <td>F</td>\n",
              "      <td>сотрудник</td>\n",
              "      <td>0</td>\n",
              "      <td>102166.458894</td>\n",
              "      <td>ремонт жилью</td>\n",
              "    </tr>\n",
              "    <tr>\n",
              "      <th>577</th>\n",
              "      <td>0</td>\n",
              "      <td>397856.565013</td>\n",
              "      <td>0</td>\n",
              "      <td>среднее</td>\n",
              "      <td>1</td>\n",
              "      <td>женат / замужем</td>\n",
              "      <td>0</td>\n",
              "      <td>F</td>\n",
              "      <td>пенсионер</td>\n",
              "      <td>0</td>\n",
              "      <td>97620.687042</td>\n",
              "      <td>строительство собственной недвижимости</td>\n",
              "    </tr>\n",
              "    <tr>\n",
              "      <th>1033</th>\n",
              "      <td>0</td>\n",
              "      <td>1158.029561</td>\n",
              "      <td>0</td>\n",
              "      <td>высшее</td>\n",
              "      <td>0</td>\n",
              "      <td>в разводе</td>\n",
              "      <td>3</td>\n",
              "      <td>F</td>\n",
              "      <td>компаньон</td>\n",
              "      <td>0</td>\n",
              "      <td>303994.134987</td>\n",
              "      <td>свой автомобиль</td>\n",
              "    </tr>\n",
              "    <tr>\n",
              "      <th>1141</th>\n",
              "      <td>0</td>\n",
              "      <td>934.654854</td>\n",
              "      <td>0</td>\n",
              "      <td>среднее</td>\n",
              "      <td>1</td>\n",
              "      <td>женат / замужем</td>\n",
              "      <td>0</td>\n",
              "      <td>F</td>\n",
              "      <td>компаньон</td>\n",
              "      <td>0</td>\n",
              "      <td>201852.430096</td>\n",
              "      <td>покупка недвижимости</td>\n",
              "    </tr>\n",
              "    <tr>\n",
              "      <th>1167</th>\n",
              "      <td>0</td>\n",
              "      <td>370879.508002</td>\n",
              "      <td>0</td>\n",
              "      <td>среднее</td>\n",
              "      <td>1</td>\n",
              "      <td>женат / замужем</td>\n",
              "      <td>0</td>\n",
              "      <td>F</td>\n",
              "      <td>пенсионер</td>\n",
              "      <td>0</td>\n",
              "      <td>313949.845188</td>\n",
              "      <td>получение дополнительного образования</td>\n",
              "    </tr>\n",
              "    <tr>\n",
              "      <th>1377</th>\n",
              "      <td>0</td>\n",
              "      <td>5043.219890</td>\n",
              "      <td>0</td>\n",
              "      <td>высшее</td>\n",
              "      <td>0</td>\n",
              "      <td>женат / замужем</td>\n",
              "      <td>0</td>\n",
              "      <td>M</td>\n",
              "      <td>госслужащий</td>\n",
              "      <td>0</td>\n",
              "      <td>240523.618071</td>\n",
              "      <td>сделка с автомобилем</td>\n",
              "    </tr>\n",
              "    <tr>\n",
              "      <th>1881</th>\n",
              "      <td>0</td>\n",
              "      <td>-1203.369529</td>\n",
              "      <td>0</td>\n",
              "      <td>высшее</td>\n",
              "      <td>0</td>\n",
              "      <td>Не женат / не замужем</td>\n",
              "      <td>4</td>\n",
              "      <td>F</td>\n",
              "      <td>сотрудник</td>\n",
              "      <td>0</td>\n",
              "      <td>145017.937533</td>\n",
              "      <td>жилье</td>\n",
              "    </tr>\n",
              "    <tr>\n",
              "      <th>1889</th>\n",
              "      <td>0</td>\n",
              "      <td>370144.537021</td>\n",
              "      <td>0</td>\n",
              "      <td>среднее</td>\n",
              "      <td>1</td>\n",
              "      <td>вдовец / вдова</td>\n",
              "      <td>2</td>\n",
              "      <td>F</td>\n",
              "      <td>пенсионер</td>\n",
              "      <td>0</td>\n",
              "      <td>127400.268338</td>\n",
              "      <td>на покупку автомобиля</td>\n",
              "    </tr>\n",
              "  </tbody>\n",
              "</table>\n",
              "</div>"
            ],
            "text/plain": [
              "      children  days_employed  dob_years education  education_id  \\\n",
              "99           0  346541.618895          0   Среднее             1   \n",
              "149          0    2664.273168          0   среднее             1   \n",
              "270          3    1872.663186          0   среднее             1   \n",
              "577          0  397856.565013          0   среднее             1   \n",
              "1033         0    1158.029561          0    высшее             0   \n",
              "1141         0     934.654854          0   среднее             1   \n",
              "1167         0  370879.508002          0   среднее             1   \n",
              "1377         0    5043.219890          0    высшее             0   \n",
              "1881         0   -1203.369529          0    высшее             0   \n",
              "1889         0  370144.537021          0   среднее             1   \n",
              "\n",
              "              family_status  family_status_id gender  income_type  debt  \\\n",
              "99          женат / замужем                 0      F    пенсионер     0   \n",
              "149               в разводе                 3      F    сотрудник     0   \n",
              "270         женат / замужем                 0      F    сотрудник     0   \n",
              "577         женат / замужем                 0      F    пенсионер     0   \n",
              "1033              в разводе                 3      F    компаньон     0   \n",
              "1141        женат / замужем                 0      F    компаньон     0   \n",
              "1167        женат / замужем                 0      F    пенсионер     0   \n",
              "1377        женат / замужем                 0      M  госслужащий     0   \n",
              "1881  Не женат / не замужем                 4      F    сотрудник     0   \n",
              "1889         вдовец / вдова                 2      F    пенсионер     0   \n",
              "\n",
              "       total_income                                 purpose  \n",
              "99     71291.522491                              автомобиль  \n",
              "149    70176.435951                       операции с жильем  \n",
              "270   102166.458894                            ремонт жилью  \n",
              "577    97620.687042  строительство собственной недвижимости  \n",
              "1033  303994.134987                         свой автомобиль  \n",
              "1141  201852.430096                    покупка недвижимости  \n",
              "1167  313949.845188   получение дополнительного образования  \n",
              "1377  240523.618071                    сделка с автомобилем  \n",
              "1881  145017.937533                                   жилье  \n",
              "1889  127400.268338                   на покупку автомобиля  "
            ]
          },
          "metadata": {}
        }
      ],
      "id": "3f944c25"
    },
    {
      "cell_type": "markdown",
      "source": "Закономерность не выявлена, поэтому удаляю эти строки.",
      "metadata": {},
      "id": "14c3b390"
    },
    {
      "cell_type": "code",
      "source": "i0 = df[df['dob_years']==0].index # индексы строк где значение 0 \nprint(i0, 'Кол-во =', len(i0))\nprint()\n#Удаление аномальных значений \nstr_del_count=0\nfor drop_str in i0:\n    df = df.drop(drop_str)\n    str_del_count+=1\nprint('Количество удаленных строк c \"0\" =', str_del_count)\nprint()\n#Проверяем\nprint(df[df['dob_years']==0].head())\nprint()  \ndf = df.reset_index(drop=True)\nprint()  \ndf.info()",
      "metadata": {},
      "execution_count": 18,
      "outputs": [
        {
          "name": "stdout",
          "output_type": "stream",
          "text": "Int64Index([   99,   149,   270,   577,  1033,  1141,  1167,  1377,  1881,\n\n             1889,  2071,  2273,  2458,  2476,  2858,  3031,  3134,  3687,\n\n             4044,  4127,  4899,  4907,  4991,  6042,  6376,  6380,  6638,\n\n             6746,  6799,  6816,  6827,  7001,  7040,  7042,  7217,  7308,\n\n             8020,  8373,  8529,  8627,  8739,  9014,  9103,  9538, 10112,\n\n            10136, 10253, 10311, 10329, 10490, 10540, 11019, 11229, 11407,\n\n            11420, 11514, 11601, 11925, 11997, 12159, 12230, 12333, 12658,\n\n            13044, 13114, 13159, 13338, 13348, 13364, 13444, 13663, 13889,\n\n            14395, 14432, 14526, 14577, 15057, 15211, 15324, 15348, 15797,\n\n            15802, 15952, 16767, 16827, 17117, 17207, 17512, 18074, 18312,\n\n            18434, 18627, 18745, 19008, 19261, 19716, 20346, 20461, 21060,\n\n            21194],\n\n           dtype='int64') Кол-во = 100\n\n\n\nКоличество удаленных строк c \"0\" = 100\n\n\n\nEmpty DataFrame\n\nColumns: [children, days_employed, dob_years, education, education_id, family_status, family_status_id, gender, income_type, debt, total_income, purpose]\n\nIndex: []\n\n\n\n\n\n<class 'pandas.core.frame.DataFrame'>\n\nRangeIndex: 21302 entries, 0 to 21301\n\nData columns (total 12 columns):\n\n #   Column            Non-Null Count  Dtype  \n\n---  ------            --------------  -----  \n\n 0   children          21302 non-null  int64  \n\n 1   days_employed     21302 non-null  float64\n\n 2   dob_years         21302 non-null  int64  \n\n 3   education         21302 non-null  object \n\n 4   education_id      21302 non-null  int64  \n\n 5   family_status     21302 non-null  object \n\n 6   family_status_id  21302 non-null  int64  \n\n 7   gender            21302 non-null  object \n\n 8   income_type       21302 non-null  object \n\n 9   debt              21302 non-null  int64  \n\n 10  total_income      21302 non-null  float64\n\n 11  purpose           21302 non-null  object \n\ndtypes: float64(2), int64(5), object(5)\n\nmemory usage: 2.0+ MB\n"
        }
      ],
      "id": "a8b09b8a"
    },
    {
      "cell_type": "markdown",
      "source": "Столбец 'education' ",
      "metadata": {},
      "id": "d29875fc"
    },
    {
      "cell_type": "code",
      "source": "print(df['education'].value_counts())",
      "metadata": {
        "scrolled": true
      },
      "execution_count": 19,
      "outputs": [
        {
          "name": "stdout",
          "output_type": "stream",
          "text": "среднее                13609\n\nвысшее                  4666\n\nСРЕДНЕЕ                  764\n\nСреднее                  700\n\nнеоконченное высшее      663\n\nВЫСШЕЕ                   270\n\nВысшее                   266\n\nначальное                250\n\nНеоконченное высшее       47\n\nНЕОКОНЧЕННОЕ ВЫСШЕЕ       29\n\nНАЧАЛЬНОЕ                 17\n\nНачальное                 15\n\nученая степень             4\n\nУченая степень             1\n\nУЧЕНАЯ СТЕПЕНЬ             1\n\nName: education, dtype: int64\n"
        }
      ],
      "id": "1fafec09"
    },
    {
      "cell_type": "markdown",
      "source": " В столбце 'education' есть одиноковые записи, но с разными регистрами, надо эти дубликаты исправить.",
      "metadata": {},
      "id": "52e58207"
    },
    {
      "cell_type": "markdown",
      "source": "Столбец 'education_id '",
      "metadata": {},
      "id": "36b66df4"
    },
    {
      "cell_type": "code",
      "source": "print(df['education_id'].value_counts())",
      "metadata": {},
      "execution_count": 20,
      "outputs": [
        {
          "name": "stdout",
          "output_type": "stream",
          "text": "1    15073\n\n0     5202\n\n2      739\n\n3      282\n\n4        6\n\nName: education_id, dtype: int64\n"
        }
      ],
      "id": "96dcf7ce"
    },
    {
      "cell_type": "markdown",
      "source": "По столбцу 'education_id' видно, что существует 5 типов образования, без аномалий.",
      "metadata": {},
      "id": "cb68d11f"
    },
    {
      "cell_type": "markdown",
      "source": "Столбец 'family_status'",
      "metadata": {},
      "id": "6e873a57"
    },
    {
      "cell_type": "code",
      "source": "print(df['family_status'].value_counts())",
      "metadata": {},
      "execution_count": 21,
      "outputs": [
        {
          "name": "stdout",
          "output_type": "stream",
          "text": "женат / замужем          12254\n\nгражданский брак          4139\n\nНе женат / не замужем     2783\n\nв разводе                 1179\n\nвдовец / вдова             947\n\nName: family_status, dtype: int64\n"
        }
      ],
      "id": "d09c000d"
    },
    {
      "cell_type": "markdown",
      "source": "В данном столбце аномалий не наблюдается.",
      "metadata": {},
      "id": "ecc63fef"
    },
    {
      "cell_type": "markdown",
      "source": "Столбец 'family_status_id'",
      "metadata": {},
      "id": "672a9ef8"
    },
    {
      "cell_type": "code",
      "source": "print(df['family_status_id'].value_counts())",
      "metadata": {},
      "execution_count": 22,
      "outputs": [
        {
          "name": "stdout",
          "output_type": "stream",
          "text": "0    12254\n\n1     4139\n\n4     2783\n\n3     1179\n\n2      947\n\nName: family_status_id, dtype: int64\n"
        }
      ],
      "id": "1fe935be"
    },
    {
      "cell_type": "markdown",
      "source": "Значения столбца 'family_status_id'совпадают с значениями столбца 'family_status', без аномалий.",
      "metadata": {},
      "id": "fc845f25"
    },
    {
      "cell_type": "markdown",
      "source": " Столбец 'gender '",
      "metadata": {},
      "id": "81a12b41"
    },
    {
      "cell_type": "code",
      "source": "print(df['gender'].value_counts())",
      "metadata": {},
      "execution_count": 23,
      "outputs": [
        {
          "name": "stdout",
          "output_type": "stream",
          "text": "F      14083\n\nM       7218\n\nXNA        1\n\nName: gender, dtype: int64\n"
        }
      ],
      "id": "055732d8"
    },
    {
      "cell_type": "code",
      "source": "display(df.loc[df['gender']=='XNA'])",
      "metadata": {},
      "execution_count": 24,
      "outputs": [
        {
          "output_type": "display_data",
          "data": {
            "text/html": [
              "<div>\n",
              "<style scoped>\n",
              "    .dataframe tbody tr th:only-of-type {\n",
              "        vertical-align: middle;\n",
              "    }\n",
              "\n",
              "    .dataframe tbody tr th {\n",
              "        vertical-align: top;\n",
              "    }\n",
              "\n",
              "    .dataframe thead th {\n",
              "        text-align: right;\n",
              "    }\n",
              "</style>\n",
              "<table border=\"1\" class=\"dataframe\">\n",
              "  <thead>\n",
              "    <tr style=\"text-align: right;\">\n",
              "      <th></th>\n",
              "      <th>children</th>\n",
              "      <th>days_employed</th>\n",
              "      <th>dob_years</th>\n",
              "      <th>education</th>\n",
              "      <th>education_id</th>\n",
              "      <th>family_status</th>\n",
              "      <th>family_status_id</th>\n",
              "      <th>gender</th>\n",
              "      <th>income_type</th>\n",
              "      <th>debt</th>\n",
              "      <th>total_income</th>\n",
              "      <th>purpose</th>\n",
              "    </tr>\n",
              "  </thead>\n",
              "  <tbody>\n",
              "    <tr>\n",
              "      <th>10595</th>\n",
              "      <td>0</td>\n",
              "      <td>2358.600502</td>\n",
              "      <td>24</td>\n",
              "      <td>неоконченное высшее</td>\n",
              "      <td>2</td>\n",
              "      <td>гражданский брак</td>\n",
              "      <td>1</td>\n",
              "      <td>XNA</td>\n",
              "      <td>компаньон</td>\n",
              "      <td>0</td>\n",
              "      <td>203905.157261</td>\n",
              "      <td>покупка недвижимости</td>\n",
              "    </tr>\n",
              "  </tbody>\n",
              "</table>\n",
              "</div>"
            ],
            "text/plain": [
              "       children  days_employed  dob_years            education  education_id  \\\n",
              "10595         0    2358.600502         24  неоконченное высшее             2   \n",
              "\n",
              "          family_status  family_status_id gender income_type  debt  \\\n",
              "10595  гражданский брак                 1    XNA   компаньон     0   \n",
              "\n",
              "        total_income               purpose  \n",
              "10595  203905.157261  покупка недвижимости  "
            ]
          },
          "metadata": {}
        }
      ],
      "id": "65f5ca57"
    },
    {
      "cell_type": "markdown",
      "source": "Всего только 1 строка с аномальным значением - 'XNA' - скорее всего это пропуск. Но мы не знаем точно, т.к не можем сделать предположений из данных. Это значение не является основным критерием для оценки, но строка эта важна. Поэтому оставляем без изменений.",
      "metadata": {},
      "id": "3b85664d"
    },
    {
      "cell_type": "markdown",
      "source": "Столбец 'income_type'",
      "metadata": {},
      "id": "a6f165b8"
    },
    {
      "cell_type": "code",
      "source": "print(df['income_type'].value_counts())",
      "metadata": {},
      "execution_count": 25,
      "outputs": [
        {
          "name": "stdout",
          "output_type": "stream",
          "text": "сотрудник          10996\n\nкомпаньон           5034\n\nпенсионер           3819\n\nгосслужащий         1447\n\nпредприниматель        2\n\nбезработный            2\n\nв декрете              1\n\nстудент                1\n\nName: income_type, dtype: int64\n"
        }
      ],
      "id": "cbbdbdd5"
    },
    {
      "cell_type": "markdown",
      "source": "Столбец без аномалий.",
      "metadata": {},
      "id": "821cb5dd"
    },
    {
      "cell_type": "markdown",
      "source": "Столбец 'debt'",
      "metadata": {},
      "id": "36a01d97"
    },
    {
      "cell_type": "code",
      "source": "print(df['debt'].value_counts())",
      "metadata": {},
      "execution_count": 26,
      "outputs": [
        {
          "name": "stdout",
          "output_type": "stream",
          "text": "0    19578\n\n1     1724\n\nName: debt, dtype: int64\n"
        }
      ],
      "id": "18ddea60"
    },
    {
      "cell_type": "markdown",
      "source": "Данный столбец также без аномалий.",
      "metadata": {},
      "id": "44a9ed2f"
    },
    {
      "cell_type": "markdown",
      "source": "Столбец 'purpose'",
      "metadata": {},
      "id": "93fe374e"
    },
    {
      "cell_type": "code",
      "source": "print(df['purpose'].value_counts())",
      "metadata": {},
      "execution_count": 27,
      "outputs": [
        {
          "name": "stdout",
          "output_type": "stream",
          "text": "свадьба                                   791\n\nна проведение свадьбы                     768\n\nсыграть свадьбу                           764\n\nоперации с недвижимостью                  670\n\nпокупка коммерческой недвижимости         658\n\nпокупка жилья для сдачи                   649\n\nоперации с коммерческой недвижимостью     644\n\nоперации с жильем                         642\n\nпокупка жилья для семьи                   639\n\nжилье                                     636\n\nпокупка жилья                             635\n\nнедвижимость                              628\n\nоперации со своей недвижимостью           626\n\nстроительство собственной недвижимости    626\n\nстроительство недвижимости                620\n\nстроительство жилой недвижимости          619\n\nпокупка своего жилья                      618\n\nпокупка недвижимости                      616\n\nремонт жилью                              607\n\nпокупка жилой недвижимости                600\n\nна покупку своего автомобиля              501\n\nзаняться высшим образованием              493\n\nавтомобиль                                488\n\nсделка с подержанным автомобилем          482\n\nавтомобили                                474\n\nсвой автомобиль                           472\n\nна покупку подержанного автомобиля        472\n\nна покупку автомобиля                     466\n\nприобретение автомобиля                   458\n\nдополнительное образование                455\n\nсделка с автомобилем                      454\n\nвысшее образование                        444\n\nполучение дополнительного образования     443\n\nполучение образования                     440\n\nобразование                               439\n\nпрофильное образование                    431\n\nполучение высшего образования             423\n\nзаняться образованием                     411\n\nName: purpose, dtype: int64\n"
        }
      ],
      "id": "b4360a11"
    },
    {
      "cell_type": "markdown",
      "source": "Столбец корректный, много совпадающих целей кредита.Необходимо структурировать названия.",
      "metadata": {},
      "id": "f529da72"
    },
    {
      "cell_type": "markdown",
      "source": "### Шаг 2.3. Изменение типов данных.",
      "metadata": {},
      "id": "28b13056"
    },
    {
      "cell_type": "code",
      "source": "df.info() #до изменений\ndf['total_income'] = df['total_income'].astype(int)\nprint()\ndf.info() #после изменеий",
      "metadata": {},
      "execution_count": 28,
      "outputs": [
        {
          "name": "stdout",
          "output_type": "stream",
          "text": "<class 'pandas.core.frame.DataFrame'>\n\nRangeIndex: 21302 entries, 0 to 21301\n\nData columns (total 12 columns):\n\n #   Column            Non-Null Count  Dtype  \n\n---  ------            --------------  -----  \n\n 0   children          21302 non-null  int64  \n\n 1   days_employed     21302 non-null  float64\n\n 2   dob_years         21302 non-null  int64  \n\n 3   education         21302 non-null  object \n\n 4   education_id      21302 non-null  int64  \n\n 5   family_status     21302 non-null  object \n\n 6   family_status_id  21302 non-null  int64  \n\n 7   gender            21302 non-null  object \n\n 8   income_type       21302 non-null  object \n\n 9   debt              21302 non-null  int64  \n\n 10  total_income      21302 non-null  float64\n\n 11  purpose           21302 non-null  object \n\ndtypes: float64(2), int64(5), object(5)\n\nmemory usage: 2.0+ MB\n\n\n\n<class 'pandas.core.frame.DataFrame'>\n\nRangeIndex: 21302 entries, 0 to 21301\n\nData columns (total 12 columns):\n\n #   Column            Non-Null Count  Dtype  \n\n---  ------            --------------  -----  \n\n 0   children          21302 non-null  int64  \n\n 1   days_employed     21302 non-null  float64\n\n 2   dob_years         21302 non-null  int64  \n\n 3   education         21302 non-null  object \n\n 4   education_id      21302 non-null  int64  \n\n 5   family_status     21302 non-null  object \n\n 6   family_status_id  21302 non-null  int64  \n\n 7   gender            21302 non-null  object \n\n 8   income_type       21302 non-null  object \n\n 9   debt              21302 non-null  int64  \n\n 10  total_income      21302 non-null  int64  \n\n 11  purpose           21302 non-null  object \n\ndtypes: float64(1), int64(6), object(5)\n\nmemory usage: 2.0+ MB\n"
        }
      ],
      "id": "63fa1798"
    },
    {
      "cell_type": "markdown",
      "source": "### Шаг 2.4. Удаление дубликатов.",
      "metadata": {},
      "id": "5ebb25bc"
    },
    {
      "cell_type": "markdown",
      "source": "Посчитаем количество дубликатов во всех столбцах. Подсчет дубликатов не применим к столбцам, либо дубликаты в них не обнаружены: days_employed, education_id, family_status, family_status_id, income_type, debt, total_income",
      "metadata": {},
      "id": "6e9c6dcd"
    },
    {
      "cell_type": "markdown",
      "source": "Столбец 'education'",
      "metadata": {},
      "id": "61bc1af2"
    },
    {
      "cell_type": "markdown",
      "source": "В столбце `education` необходимо обработать дубликаты, появившиеся из-за различного написанию слов. Использованы и строчные, и прописные буквы. Чтобы учесть такие дубликаты, все символы в строке приводят к нижнему регистру вызовом метода `str.lower()`. И потом проверим совпадают ли кол-во значений по категориям в 'education' со столбцом \"education_id\".\t",
      "metadata": {},
      "id": "fb4a72e2"
    },
    {
      "cell_type": "code",
      "source": "# посчитаем количество дубликатов в столбце education\ndisplay(df['education'].value_counts())",
      "metadata": {},
      "execution_count": 29,
      "outputs": [
        {
          "output_type": "display_data",
          "data": {
            "text/plain": [
              "среднее                13609\n",
              "высшее                  4666\n",
              "СРЕДНЕЕ                  764\n",
              "Среднее                  700\n",
              "неоконченное высшее      663\n",
              "ВЫСШЕЕ                   270\n",
              "Высшее                   266\n",
              "начальное                250\n",
              "Неоконченное высшее       47\n",
              "НЕОКОНЧЕННОЕ ВЫСШЕЕ       29\n",
              "НАЧАЛЬНОЕ                 17\n",
              "Начальное                 15\n",
              "ученая степень             4\n",
              "Ученая степень             1\n",
              "УЧЕНАЯ СТЕПЕНЬ             1\n",
              "Name: education, dtype: int64"
            ]
          },
          "metadata": {}
        }
      ],
      "id": "40184992"
    },
    {
      "cell_type": "code",
      "source": "df['education'] = df['education'].str.lower() # переводим все виды образования в нижний регистр\ndisplay(df['education'].value_counts()) # посмотрим, какой набор видов образования получился теперь",
      "metadata": {},
      "execution_count": 30,
      "outputs": [
        {
          "output_type": "display_data",
          "data": {
            "text/plain": [
              "среднее                15073\n",
              "высшее                  5202\n",
              "неоконченное высшее      739\n",
              "начальное                282\n",
              "ученая степень             6\n",
              "Name: education, dtype: int64"
            ]
          },
          "metadata": {}
        }
      ],
      "id": "6aee5b00"
    },
    {
      "cell_type": "markdown",
      "source": "С дубликатами видов образования было 15, а без дубликатов всего лишь 5 (столько же, сколько в столбце `education_id` идентификаторов). ",
      "metadata": {},
      "id": "43769855"
    },
    {
      "cell_type": "code",
      "source": "df.duplicated().sum() #подсчет всех дубликатов",
      "metadata": {},
      "execution_count": 31,
      "outputs": [
        {
          "execution_count": 31,
          "output_type": "execute_result",
          "data": {
            "text/plain": [
              "71"
            ]
          },
          "metadata": {}
        }
      ],
      "id": "cfd45ff4"
    },
    {
      "cell_type": "code",
      "source": "df = df.drop_duplicates().reset_index(drop=True)  # удаление  дубликатов (с удалением старых индексов и формированием новых)\ndf.head(10)",
      "metadata": {},
      "execution_count": 32,
      "outputs": [
        {
          "execution_count": 32,
          "output_type": "execute_result",
          "data": {
            "text/html": [
              "<div>\n",
              "<style scoped>\n",
              "    .dataframe tbody tr th:only-of-type {\n",
              "        vertical-align: middle;\n",
              "    }\n",
              "\n",
              "    .dataframe tbody tr th {\n",
              "        vertical-align: top;\n",
              "    }\n",
              "\n",
              "    .dataframe thead th {\n",
              "        text-align: right;\n",
              "    }\n",
              "</style>\n",
              "<table border=\"1\" class=\"dataframe\">\n",
              "  <thead>\n",
              "    <tr style=\"text-align: right;\">\n",
              "      <th></th>\n",
              "      <th>children</th>\n",
              "      <th>days_employed</th>\n",
              "      <th>dob_years</th>\n",
              "      <th>education</th>\n",
              "      <th>education_id</th>\n",
              "      <th>family_status</th>\n",
              "      <th>family_status_id</th>\n",
              "      <th>gender</th>\n",
              "      <th>income_type</th>\n",
              "      <th>debt</th>\n",
              "      <th>total_income</th>\n",
              "      <th>purpose</th>\n",
              "    </tr>\n",
              "  </thead>\n",
              "  <tbody>\n",
              "    <tr>\n",
              "      <th>0</th>\n",
              "      <td>1</td>\n",
              "      <td>8437.673028</td>\n",
              "      <td>42</td>\n",
              "      <td>высшее</td>\n",
              "      <td>0</td>\n",
              "      <td>женат / замужем</td>\n",
              "      <td>0</td>\n",
              "      <td>F</td>\n",
              "      <td>сотрудник</td>\n",
              "      <td>0</td>\n",
              "      <td>253875</td>\n",
              "      <td>покупка жилья</td>\n",
              "    </tr>\n",
              "    <tr>\n",
              "      <th>1</th>\n",
              "      <td>1</td>\n",
              "      <td>4024.803754</td>\n",
              "      <td>36</td>\n",
              "      <td>среднее</td>\n",
              "      <td>1</td>\n",
              "      <td>женат / замужем</td>\n",
              "      <td>0</td>\n",
              "      <td>F</td>\n",
              "      <td>сотрудник</td>\n",
              "      <td>0</td>\n",
              "      <td>112080</td>\n",
              "      <td>приобретение автомобиля</td>\n",
              "    </tr>\n",
              "    <tr>\n",
              "      <th>2</th>\n",
              "      <td>0</td>\n",
              "      <td>5623.422610</td>\n",
              "      <td>33</td>\n",
              "      <td>среднее</td>\n",
              "      <td>1</td>\n",
              "      <td>женат / замужем</td>\n",
              "      <td>0</td>\n",
              "      <td>M</td>\n",
              "      <td>сотрудник</td>\n",
              "      <td>0</td>\n",
              "      <td>145885</td>\n",
              "      <td>покупка жилья</td>\n",
              "    </tr>\n",
              "    <tr>\n",
              "      <th>3</th>\n",
              "      <td>3</td>\n",
              "      <td>4124.747207</td>\n",
              "      <td>32</td>\n",
              "      <td>среднее</td>\n",
              "      <td>1</td>\n",
              "      <td>женат / замужем</td>\n",
              "      <td>0</td>\n",
              "      <td>M</td>\n",
              "      <td>сотрудник</td>\n",
              "      <td>0</td>\n",
              "      <td>267628</td>\n",
              "      <td>дополнительное образование</td>\n",
              "    </tr>\n",
              "    <tr>\n",
              "      <th>4</th>\n",
              "      <td>0</td>\n",
              "      <td>340266.072047</td>\n",
              "      <td>53</td>\n",
              "      <td>среднее</td>\n",
              "      <td>1</td>\n",
              "      <td>гражданский брак</td>\n",
              "      <td>1</td>\n",
              "      <td>F</td>\n",
              "      <td>пенсионер</td>\n",
              "      <td>0</td>\n",
              "      <td>158616</td>\n",
              "      <td>сыграть свадьбу</td>\n",
              "    </tr>\n",
              "    <tr>\n",
              "      <th>5</th>\n",
              "      <td>0</td>\n",
              "      <td>926.185831</td>\n",
              "      <td>27</td>\n",
              "      <td>высшее</td>\n",
              "      <td>0</td>\n",
              "      <td>гражданский брак</td>\n",
              "      <td>1</td>\n",
              "      <td>M</td>\n",
              "      <td>компаньон</td>\n",
              "      <td>0</td>\n",
              "      <td>255763</td>\n",
              "      <td>покупка жилья</td>\n",
              "    </tr>\n",
              "    <tr>\n",
              "      <th>6</th>\n",
              "      <td>0</td>\n",
              "      <td>2879.202052</td>\n",
              "      <td>43</td>\n",
              "      <td>высшее</td>\n",
              "      <td>0</td>\n",
              "      <td>женат / замужем</td>\n",
              "      <td>0</td>\n",
              "      <td>F</td>\n",
              "      <td>компаньон</td>\n",
              "      <td>0</td>\n",
              "      <td>240525</td>\n",
              "      <td>операции с жильем</td>\n",
              "    </tr>\n",
              "    <tr>\n",
              "      <th>7</th>\n",
              "      <td>0</td>\n",
              "      <td>152.779569</td>\n",
              "      <td>50</td>\n",
              "      <td>среднее</td>\n",
              "      <td>1</td>\n",
              "      <td>женат / замужем</td>\n",
              "      <td>0</td>\n",
              "      <td>M</td>\n",
              "      <td>сотрудник</td>\n",
              "      <td>0</td>\n",
              "      <td>135823</td>\n",
              "      <td>образование</td>\n",
              "    </tr>\n",
              "    <tr>\n",
              "      <th>8</th>\n",
              "      <td>2</td>\n",
              "      <td>6929.865299</td>\n",
              "      <td>35</td>\n",
              "      <td>высшее</td>\n",
              "      <td>0</td>\n",
              "      <td>гражданский брак</td>\n",
              "      <td>1</td>\n",
              "      <td>F</td>\n",
              "      <td>сотрудник</td>\n",
              "      <td>0</td>\n",
              "      <td>95856</td>\n",
              "      <td>на проведение свадьбы</td>\n",
              "    </tr>\n",
              "    <tr>\n",
              "      <th>9</th>\n",
              "      <td>0</td>\n",
              "      <td>2188.756445</td>\n",
              "      <td>41</td>\n",
              "      <td>среднее</td>\n",
              "      <td>1</td>\n",
              "      <td>женат / замужем</td>\n",
              "      <td>0</td>\n",
              "      <td>M</td>\n",
              "      <td>сотрудник</td>\n",
              "      <td>0</td>\n",
              "      <td>144425</td>\n",
              "      <td>покупка жилья для семьи</td>\n",
              "    </tr>\n",
              "  </tbody>\n",
              "</table>\n",
              "</div>"
            ],
            "text/plain": [
              "   children  days_employed  dob_years education  education_id  \\\n",
              "0         1    8437.673028         42    высшее             0   \n",
              "1         1    4024.803754         36   среднее             1   \n",
              "2         0    5623.422610         33   среднее             1   \n",
              "3         3    4124.747207         32   среднее             1   \n",
              "4         0  340266.072047         53   среднее             1   \n",
              "5         0     926.185831         27    высшее             0   \n",
              "6         0    2879.202052         43    высшее             0   \n",
              "7         0     152.779569         50   среднее             1   \n",
              "8         2    6929.865299         35    высшее             0   \n",
              "9         0    2188.756445         41   среднее             1   \n",
              "\n",
              "      family_status  family_status_id gender income_type  debt  total_income  \\\n",
              "0   женат / замужем                 0      F   сотрудник     0        253875   \n",
              "1   женат / замужем                 0      F   сотрудник     0        112080   \n",
              "2   женат / замужем                 0      M   сотрудник     0        145885   \n",
              "3   женат / замужем                 0      M   сотрудник     0        267628   \n",
              "4  гражданский брак                 1      F   пенсионер     0        158616   \n",
              "5  гражданский брак                 1      M   компаньон     0        255763   \n",
              "6   женат / замужем                 0      F   компаньон     0        240525   \n",
              "7   женат / замужем                 0      M   сотрудник     0        135823   \n",
              "8  гражданский брак                 1      F   сотрудник     0         95856   \n",
              "9   женат / замужем                 0      M   сотрудник     0        144425   \n",
              "\n",
              "                      purpose  \n",
              "0               покупка жилья  \n",
              "1     приобретение автомобиля  \n",
              "2               покупка жилья  \n",
              "3  дополнительное образование  \n",
              "4             сыграть свадьбу  \n",
              "5               покупка жилья  \n",
              "6           операции с жильем  \n",
              "7                 образование  \n",
              "8       на проведение свадьбы  \n",
              "9     покупка жилья для семьи  "
            ]
          },
          "metadata": {}
        }
      ],
      "id": "19450cb6"
    },
    {
      "cell_type": "code",
      "source": "df.duplicated().sum() # проверка на отсутствие дубликатов",
      "metadata": {},
      "execution_count": 33,
      "outputs": [
        {
          "execution_count": 33,
          "output_type": "execute_result",
          "data": {
            "text/plain": [
              "0"
            ]
          },
          "metadata": {}
        }
      ],
      "id": "c41a7c3a"
    },
    {
      "cell_type": "markdown",
      "source": "### Шаг 2.5. Формирование дополнительных датафреймов словарей, декомпозиция исходного датафрейма.",
      "metadata": {},
      "id": "f3654464"
    },
    {
      "cell_type": "code",
      "source": "education = df[['education_id', 'education']].drop_duplicates().reset_index(drop=True)\ndisplay(education)",
      "metadata": {},
      "execution_count": 36,
      "outputs": [
        {
          "output_type": "display_data",
          "data": {
            "text/html": [
              "<div>\n",
              "<style scoped>\n",
              "    .dataframe tbody tr th:only-of-type {\n",
              "        vertical-align: middle;\n",
              "    }\n",
              "\n",
              "    .dataframe tbody tr th {\n",
              "        vertical-align: top;\n",
              "    }\n",
              "\n",
              "    .dataframe thead th {\n",
              "        text-align: right;\n",
              "    }\n",
              "</style>\n",
              "<table border=\"1\" class=\"dataframe\">\n",
              "  <thead>\n",
              "    <tr style=\"text-align: right;\">\n",
              "      <th></th>\n",
              "      <th>education_id</th>\n",
              "      <th>education</th>\n",
              "    </tr>\n",
              "  </thead>\n",
              "  <tbody>\n",
              "    <tr>\n",
              "      <th>0</th>\n",
              "      <td>0</td>\n",
              "      <td>высшее</td>\n",
              "    </tr>\n",
              "    <tr>\n",
              "      <th>1</th>\n",
              "      <td>1</td>\n",
              "      <td>среднее</td>\n",
              "    </tr>\n",
              "    <tr>\n",
              "      <th>2</th>\n",
              "      <td>2</td>\n",
              "      <td>неоконченное высшее</td>\n",
              "    </tr>\n",
              "    <tr>\n",
              "      <th>3</th>\n",
              "      <td>3</td>\n",
              "      <td>начальное</td>\n",
              "    </tr>\n",
              "    <tr>\n",
              "      <th>4</th>\n",
              "      <td>4</td>\n",
              "      <td>ученая степень</td>\n",
              "    </tr>\n",
              "  </tbody>\n",
              "</table>\n",
              "</div>"
            ],
            "text/plain": [
              "   education_id            education\n",
              "0             0               высшее\n",
              "1             1              среднее\n",
              "2             2  неоконченное высшее\n",
              "3             3            начальное\n",
              "4             4       ученая степень"
            ]
          },
          "metadata": {}
        }
      ],
      "id": "46220758"
    },
    {
      "cell_type": "code",
      "source": "family_status = df[['family_status_id', 'family_status']].drop_duplicates().reset_index(drop=True)\ndisplay(family_status)",
      "metadata": {},
      "execution_count": 37,
      "outputs": [
        {
          "output_type": "display_data",
          "data": {
            "text/html": [
              "<div>\n",
              "<style scoped>\n",
              "    .dataframe tbody tr th:only-of-type {\n",
              "        vertical-align: middle;\n",
              "    }\n",
              "\n",
              "    .dataframe tbody tr th {\n",
              "        vertical-align: top;\n",
              "    }\n",
              "\n",
              "    .dataframe thead th {\n",
              "        text-align: right;\n",
              "    }\n",
              "</style>\n",
              "<table border=\"1\" class=\"dataframe\">\n",
              "  <thead>\n",
              "    <tr style=\"text-align: right;\">\n",
              "      <th></th>\n",
              "      <th>family_status_id</th>\n",
              "      <th>family_status</th>\n",
              "    </tr>\n",
              "  </thead>\n",
              "  <tbody>\n",
              "    <tr>\n",
              "      <th>0</th>\n",
              "      <td>0</td>\n",
              "      <td>женат / замужем</td>\n",
              "    </tr>\n",
              "    <tr>\n",
              "      <th>1</th>\n",
              "      <td>1</td>\n",
              "      <td>гражданский брак</td>\n",
              "    </tr>\n",
              "    <tr>\n",
              "      <th>2</th>\n",
              "      <td>2</td>\n",
              "      <td>вдовец / вдова</td>\n",
              "    </tr>\n",
              "    <tr>\n",
              "      <th>3</th>\n",
              "      <td>3</td>\n",
              "      <td>в разводе</td>\n",
              "    </tr>\n",
              "    <tr>\n",
              "      <th>4</th>\n",
              "      <td>4</td>\n",
              "      <td>Не женат / не замужем</td>\n",
              "    </tr>\n",
              "  </tbody>\n",
              "</table>\n",
              "</div>"
            ],
            "text/plain": [
              "   family_status_id          family_status\n",
              "0                 0        женат / замужем\n",
              "1                 1       гражданский брак\n",
              "2                 2         вдовец / вдова\n",
              "3                 3              в разводе\n",
              "4                 4  Не женат / не замужем"
            ]
          },
          "metadata": {}
        }
      ],
      "id": "6e131d45"
    },
    {
      "cell_type": "code",
      "source": "df1=df.drop(['education', 'family_status'], axis = 1)\ndisplay(df1.head())",
      "metadata": {},
      "execution_count": 38,
      "outputs": [
        {
          "output_type": "display_data",
          "data": {
            "text/html": [
              "<div>\n",
              "<style scoped>\n",
              "    .dataframe tbody tr th:only-of-type {\n",
              "        vertical-align: middle;\n",
              "    }\n",
              "\n",
              "    .dataframe tbody tr th {\n",
              "        vertical-align: top;\n",
              "    }\n",
              "\n",
              "    .dataframe thead th {\n",
              "        text-align: right;\n",
              "    }\n",
              "</style>\n",
              "<table border=\"1\" class=\"dataframe\">\n",
              "  <thead>\n",
              "    <tr style=\"text-align: right;\">\n",
              "      <th></th>\n",
              "      <th>children</th>\n",
              "      <th>days_employed</th>\n",
              "      <th>dob_years</th>\n",
              "      <th>education_id</th>\n",
              "      <th>family_status_id</th>\n",
              "      <th>gender</th>\n",
              "      <th>income_type</th>\n",
              "      <th>debt</th>\n",
              "      <th>total_income</th>\n",
              "      <th>purpose</th>\n",
              "    </tr>\n",
              "  </thead>\n",
              "  <tbody>\n",
              "    <tr>\n",
              "      <th>0</th>\n",
              "      <td>1</td>\n",
              "      <td>8437.673028</td>\n",
              "      <td>42</td>\n",
              "      <td>0</td>\n",
              "      <td>0</td>\n",
              "      <td>F</td>\n",
              "      <td>сотрудник</td>\n",
              "      <td>0</td>\n",
              "      <td>253875</td>\n",
              "      <td>покупка жилья</td>\n",
              "    </tr>\n",
              "    <tr>\n",
              "      <th>1</th>\n",
              "      <td>1</td>\n",
              "      <td>4024.803754</td>\n",
              "      <td>36</td>\n",
              "      <td>1</td>\n",
              "      <td>0</td>\n",
              "      <td>F</td>\n",
              "      <td>сотрудник</td>\n",
              "      <td>0</td>\n",
              "      <td>112080</td>\n",
              "      <td>приобретение автомобиля</td>\n",
              "    </tr>\n",
              "    <tr>\n",
              "      <th>2</th>\n",
              "      <td>0</td>\n",
              "      <td>5623.422610</td>\n",
              "      <td>33</td>\n",
              "      <td>1</td>\n",
              "      <td>0</td>\n",
              "      <td>M</td>\n",
              "      <td>сотрудник</td>\n",
              "      <td>0</td>\n",
              "      <td>145885</td>\n",
              "      <td>покупка жилья</td>\n",
              "    </tr>\n",
              "    <tr>\n",
              "      <th>3</th>\n",
              "      <td>3</td>\n",
              "      <td>4124.747207</td>\n",
              "      <td>32</td>\n",
              "      <td>1</td>\n",
              "      <td>0</td>\n",
              "      <td>M</td>\n",
              "      <td>сотрудник</td>\n",
              "      <td>0</td>\n",
              "      <td>267628</td>\n",
              "      <td>дополнительное образование</td>\n",
              "    </tr>\n",
              "    <tr>\n",
              "      <th>4</th>\n",
              "      <td>0</td>\n",
              "      <td>340266.072047</td>\n",
              "      <td>53</td>\n",
              "      <td>1</td>\n",
              "      <td>1</td>\n",
              "      <td>F</td>\n",
              "      <td>пенсионер</td>\n",
              "      <td>0</td>\n",
              "      <td>158616</td>\n",
              "      <td>сыграть свадьбу</td>\n",
              "    </tr>\n",
              "  </tbody>\n",
              "</table>\n",
              "</div>"
            ],
            "text/plain": [
              "   children  days_employed  dob_years  education_id  family_status_id gender  \\\n",
              "0         1    8437.673028         42             0                 0      F   \n",
              "1         1    4024.803754         36             1                 0      F   \n",
              "2         0    5623.422610         33             1                 0      M   \n",
              "3         3    4124.747207         32             1                 0      M   \n",
              "4         0  340266.072047         53             1                 1      F   \n",
              "\n",
              "  income_type  debt  total_income                     purpose  \n",
              "0   сотрудник     0        253875               покупка жилья  \n",
              "1   сотрудник     0        112080     приобретение автомобиля  \n",
              "2   сотрудник     0        145885               покупка жилья  \n",
              "3   сотрудник     0        267628  дополнительное образование  \n",
              "4   пенсионер     0        158616             сыграть свадьбу  "
            ]
          },
          "metadata": {}
        }
      ],
      "id": "449331c7"
    },
    {
      "cell_type": "markdown",
      "source": "### Шаг 2.6. Категоризация дохода.",
      "metadata": {},
      "id": "4bf2ebd2"
    },
    {
      "cell_type": "code",
      "source": "df1['total_income_category'] = 'NaN'\ndf1.loc[df1['total_income'] <= 30000, ['total_income_category']] = ['E']\ndf1.loc[(30000 < df1['total_income']) & ( df1['total_income'] <= 50000), ['total_income_category']] = ['D']\ndf1.loc[(50000 < df1['total_income']) & ( df1['total_income'] <= 200000), ['total_income_category']] = ['C']\ndf1.loc[(200000 < df1['total_income']) & ( df1['total_income'] <= 1000000), ['total_income_category']] = ['B']\ndf1.loc[df1['total_income'] > 1000000, ['total_income_category']] = ['A']\nprint(df1['total_income_category'].value_counts())\ndisplay(df1.head())\nprint(df1.info())",
      "metadata": {},
      "execution_count": 40,
      "outputs": [
        {
          "name": "stdout",
          "output_type": "stream",
          "text": "C    15850\n\nB     4987\n\nD      347\n\nA       25\n\nE       22\n\nName: total_income_category, dtype: int64\n"
        },
        {
          "output_type": "display_data",
          "data": {
            "text/html": [
              "<div>\n",
              "<style scoped>\n",
              "    .dataframe tbody tr th:only-of-type {\n",
              "        vertical-align: middle;\n",
              "    }\n",
              "\n",
              "    .dataframe tbody tr th {\n",
              "        vertical-align: top;\n",
              "    }\n",
              "\n",
              "    .dataframe thead th {\n",
              "        text-align: right;\n",
              "    }\n",
              "</style>\n",
              "<table border=\"1\" class=\"dataframe\">\n",
              "  <thead>\n",
              "    <tr style=\"text-align: right;\">\n",
              "      <th></th>\n",
              "      <th>children</th>\n",
              "      <th>days_employed</th>\n",
              "      <th>dob_years</th>\n",
              "      <th>education_id</th>\n",
              "      <th>family_status_id</th>\n",
              "      <th>gender</th>\n",
              "      <th>income_type</th>\n",
              "      <th>debt</th>\n",
              "      <th>total_income</th>\n",
              "      <th>purpose</th>\n",
              "      <th>total_income_category</th>\n",
              "    </tr>\n",
              "  </thead>\n",
              "  <tbody>\n",
              "    <tr>\n",
              "      <th>0</th>\n",
              "      <td>1</td>\n",
              "      <td>8437.673028</td>\n",
              "      <td>42</td>\n",
              "      <td>0</td>\n",
              "      <td>0</td>\n",
              "      <td>F</td>\n",
              "      <td>сотрудник</td>\n",
              "      <td>0</td>\n",
              "      <td>253875</td>\n",
              "      <td>покупка жилья</td>\n",
              "      <td>B</td>\n",
              "    </tr>\n",
              "    <tr>\n",
              "      <th>1</th>\n",
              "      <td>1</td>\n",
              "      <td>4024.803754</td>\n",
              "      <td>36</td>\n",
              "      <td>1</td>\n",
              "      <td>0</td>\n",
              "      <td>F</td>\n",
              "      <td>сотрудник</td>\n",
              "      <td>0</td>\n",
              "      <td>112080</td>\n",
              "      <td>приобретение автомобиля</td>\n",
              "      <td>C</td>\n",
              "    </tr>\n",
              "    <tr>\n",
              "      <th>2</th>\n",
              "      <td>0</td>\n",
              "      <td>5623.422610</td>\n",
              "      <td>33</td>\n",
              "      <td>1</td>\n",
              "      <td>0</td>\n",
              "      <td>M</td>\n",
              "      <td>сотрудник</td>\n",
              "      <td>0</td>\n",
              "      <td>145885</td>\n",
              "      <td>покупка жилья</td>\n",
              "      <td>C</td>\n",
              "    </tr>\n",
              "    <tr>\n",
              "      <th>3</th>\n",
              "      <td>3</td>\n",
              "      <td>4124.747207</td>\n",
              "      <td>32</td>\n",
              "      <td>1</td>\n",
              "      <td>0</td>\n",
              "      <td>M</td>\n",
              "      <td>сотрудник</td>\n",
              "      <td>0</td>\n",
              "      <td>267628</td>\n",
              "      <td>дополнительное образование</td>\n",
              "      <td>B</td>\n",
              "    </tr>\n",
              "    <tr>\n",
              "      <th>4</th>\n",
              "      <td>0</td>\n",
              "      <td>340266.072047</td>\n",
              "      <td>53</td>\n",
              "      <td>1</td>\n",
              "      <td>1</td>\n",
              "      <td>F</td>\n",
              "      <td>пенсионер</td>\n",
              "      <td>0</td>\n",
              "      <td>158616</td>\n",
              "      <td>сыграть свадьбу</td>\n",
              "      <td>C</td>\n",
              "    </tr>\n",
              "  </tbody>\n",
              "</table>\n",
              "</div>"
            ],
            "text/plain": [
              "   children  days_employed  dob_years  education_id  family_status_id gender  \\\n",
              "0         1    8437.673028         42             0                 0      F   \n",
              "1         1    4024.803754         36             1                 0      F   \n",
              "2         0    5623.422610         33             1                 0      M   \n",
              "3         3    4124.747207         32             1                 0      M   \n",
              "4         0  340266.072047         53             1                 1      F   \n",
              "\n",
              "  income_type  debt  total_income                     purpose  \\\n",
              "0   сотрудник     0        253875               покупка жилья   \n",
              "1   сотрудник     0        112080     приобретение автомобиля   \n",
              "2   сотрудник     0        145885               покупка жилья   \n",
              "3   сотрудник     0        267628  дополнительное образование   \n",
              "4   пенсионер     0        158616             сыграть свадьбу   \n",
              "\n",
              "  total_income_category  \n",
              "0                     B  \n",
              "1                     C  \n",
              "2                     C  \n",
              "3                     B  \n",
              "4                     C  "
            ]
          },
          "metadata": {}
        },
        {
          "name": "stdout",
          "output_type": "stream",
          "text": "<class 'pandas.core.frame.DataFrame'>\n\nRangeIndex: 21231 entries, 0 to 21230\n\nData columns (total 11 columns):\n\n #   Column                 Non-Null Count  Dtype  \n\n---  ------                 --------------  -----  \n\n 0   children               21231 non-null  int64  \n\n 1   days_employed          21231 non-null  float64\n\n 2   dob_years              21231 non-null  int64  \n\n 3   education_id           21231 non-null  int64  \n\n 4   family_status_id       21231 non-null  int64  \n\n 5   gender                 21231 non-null  object \n\n 6   income_type            21231 non-null  object \n\n 7   debt                   21231 non-null  int64  \n\n 8   total_income           21231 non-null  int64  \n\n 9   purpose                21231 non-null  object \n\n 10  total_income_category  21231 non-null  object \n\ndtypes: float64(1), int64(6), object(4)\n\nmemory usage: 1.8+ MB\n\nNone\n"
        }
      ],
      "id": "a8d89bf9"
    },
    {
      "cell_type": "markdown",
      "source": "### Шаг 2.7. Категоризация целей кредита.",
      "metadata": {},
      "id": "9af11e6d"
    },
    {
      "cell_type": "code",
      "source": "# Для категоризации целей кредита выбрала функцию лемматизации. Импортируем библиотеку pymystem3\nimport json\nfrom pymystem3 import Mystem\nfrom collections import Counter\nm = Mystem()",
      "metadata": {},
      "execution_count": 41,
      "outputs": [],
      "id": "dae2052f"
    },
    {
      "cell_type": "code",
      "source": "# Создадим функцию которая возвращает строку с ключевыми словами целей кредита\ndef lemma_pur(purpose):\n    lemma = ' ' .join(m.lemmatize(purpose))\n    return lemma\n\ndf1['purpose_word'] = df1['purpose'].apply(lemma_pur)",
      "metadata": {},
      "execution_count": 42,
      "outputs": [],
      "id": "5e8490db"
    },
    {
      "cell_type": "code",
      "source": "# Отобразим уникальные значения (цели кредита)\ndf1['purpose_word'].unique()",
      "metadata": {},
      "execution_count": 43,
      "outputs": [
        {
          "execution_count": 43,
          "output_type": "execute_result",
          "data": {
            "text/plain": [
              "array(['покупка   жилье \\n', 'приобретение   автомобиль \\n',\n",
              "       'дополнительный   образование \\n', 'сыграть   свадьба \\n',\n",
              "       'операция   с   жилье \\n', 'образование \\n',\n",
              "       'на   проведение   свадьба \\n', 'покупка   жилье   для   семья \\n',\n",
              "       'покупка   недвижимость \\n',\n",
              "       'покупка   коммерческий   недвижимость \\n',\n",
              "       'покупка   жилой   недвижимость \\n',\n",
              "       'строительство   собственный   недвижимость \\n', 'недвижимость \\n',\n",
              "       'строительство   недвижимость \\n',\n",
              "       'на   покупка   подержать   автомобиль \\n',\n",
              "       'на   покупка   свой   автомобиль \\n',\n",
              "       'операция   с   коммерческий   недвижимость \\n',\n",
              "       'строительство   жилой   недвижимость \\n', 'жилье \\n',\n",
              "       'операция   со   свой   недвижимость \\n', 'автомобиль \\n',\n",
              "       'заниматься   образование \\n',\n",
              "       'сделка   с   подержанный   автомобиль \\n',\n",
              "       'получение   образование \\n', 'свадьба \\n',\n",
              "       'получение   дополнительный   образование \\n',\n",
              "       'покупка   свой   жилье \\n', 'операция   с   недвижимость \\n',\n",
              "       'получение   высокий   образование \\n', 'свой   автомобиль \\n',\n",
              "       'сделка   с   автомобиль \\n', 'профильный   образование \\n',\n",
              "       'высокий   образование \\n', 'покупка   жилье   для   сдача \\n',\n",
              "       'на   покупка   автомобиль \\n', 'ремонт   жилье \\n',\n",
              "       'заниматься   высокий   образование \\n'], dtype=object)"
            ]
          },
          "metadata": {}
        }
      ],
      "id": "8ce5c701"
    },
    {
      "cell_type": "code",
      "source": "# Создадим новый столбец (purpose_category) с категориями на основании результатов лемматизации\ndef purpose_category(list):\n    if 'автомобиль' in list:\n        return 'операции с автомобилем'\n    if \"образование\" in list:\n        return 'получение образования'\n    if \"свадьба\" in list:\n        return 'проведение свадьбы'\n    if 'недвижимость' or 'жилье' or 'строительство' in list:\n        return 'операции с недвижимостью'\n    \ndf1['purpose_category'] = df1['purpose_word'].apply(purpose_category)",
      "metadata": {},
      "execution_count": 44,
      "outputs": [],
      "id": "8ae48b08"
    },
    {
      "cell_type": "code",
      "source": "# После группировки цели кредита разделены на 4 группы\ndf1.drop(['purpose', 'purpose_word'], axis = 1)",
      "metadata": {},
      "execution_count": 45,
      "outputs": [
        {
          "execution_count": 45,
          "output_type": "execute_result",
          "data": {
            "text/html": [
              "<div>\n",
              "<style scoped>\n",
              "    .dataframe tbody tr th:only-of-type {\n",
              "        vertical-align: middle;\n",
              "    }\n",
              "\n",
              "    .dataframe tbody tr th {\n",
              "        vertical-align: top;\n",
              "    }\n",
              "\n",
              "    .dataframe thead th {\n",
              "        text-align: right;\n",
              "    }\n",
              "</style>\n",
              "<table border=\"1\" class=\"dataframe\">\n",
              "  <thead>\n",
              "    <tr style=\"text-align: right;\">\n",
              "      <th></th>\n",
              "      <th>children</th>\n",
              "      <th>days_employed</th>\n",
              "      <th>dob_years</th>\n",
              "      <th>education_id</th>\n",
              "      <th>family_status_id</th>\n",
              "      <th>gender</th>\n",
              "      <th>income_type</th>\n",
              "      <th>debt</th>\n",
              "      <th>total_income</th>\n",
              "      <th>total_income_category</th>\n",
              "      <th>purpose_category</th>\n",
              "    </tr>\n",
              "  </thead>\n",
              "  <tbody>\n",
              "    <tr>\n",
              "      <th>0</th>\n",
              "      <td>1</td>\n",
              "      <td>8437.673028</td>\n",
              "      <td>42</td>\n",
              "      <td>0</td>\n",
              "      <td>0</td>\n",
              "      <td>F</td>\n",
              "      <td>сотрудник</td>\n",
              "      <td>0</td>\n",
              "      <td>253875</td>\n",
              "      <td>B</td>\n",
              "      <td>операции с недвижимостью</td>\n",
              "    </tr>\n",
              "    <tr>\n",
              "      <th>1</th>\n",
              "      <td>1</td>\n",
              "      <td>4024.803754</td>\n",
              "      <td>36</td>\n",
              "      <td>1</td>\n",
              "      <td>0</td>\n",
              "      <td>F</td>\n",
              "      <td>сотрудник</td>\n",
              "      <td>0</td>\n",
              "      <td>112080</td>\n",
              "      <td>C</td>\n",
              "      <td>операции с автомобилем</td>\n",
              "    </tr>\n",
              "    <tr>\n",
              "      <th>2</th>\n",
              "      <td>0</td>\n",
              "      <td>5623.422610</td>\n",
              "      <td>33</td>\n",
              "      <td>1</td>\n",
              "      <td>0</td>\n",
              "      <td>M</td>\n",
              "      <td>сотрудник</td>\n",
              "      <td>0</td>\n",
              "      <td>145885</td>\n",
              "      <td>C</td>\n",
              "      <td>операции с недвижимостью</td>\n",
              "    </tr>\n",
              "    <tr>\n",
              "      <th>3</th>\n",
              "      <td>3</td>\n",
              "      <td>4124.747207</td>\n",
              "      <td>32</td>\n",
              "      <td>1</td>\n",
              "      <td>0</td>\n",
              "      <td>M</td>\n",
              "      <td>сотрудник</td>\n",
              "      <td>0</td>\n",
              "      <td>267628</td>\n",
              "      <td>B</td>\n",
              "      <td>получение образования</td>\n",
              "    </tr>\n",
              "    <tr>\n",
              "      <th>4</th>\n",
              "      <td>0</td>\n",
              "      <td>340266.072047</td>\n",
              "      <td>53</td>\n",
              "      <td>1</td>\n",
              "      <td>1</td>\n",
              "      <td>F</td>\n",
              "      <td>пенсионер</td>\n",
              "      <td>0</td>\n",
              "      <td>158616</td>\n",
              "      <td>C</td>\n",
              "      <td>проведение свадьбы</td>\n",
              "    </tr>\n",
              "    <tr>\n",
              "      <th>...</th>\n",
              "      <td>...</td>\n",
              "      <td>...</td>\n",
              "      <td>...</td>\n",
              "      <td>...</td>\n",
              "      <td>...</td>\n",
              "      <td>...</td>\n",
              "      <td>...</td>\n",
              "      <td>...</td>\n",
              "      <td>...</td>\n",
              "      <td>...</td>\n",
              "      <td>...</td>\n",
              "    </tr>\n",
              "    <tr>\n",
              "      <th>21226</th>\n",
              "      <td>1</td>\n",
              "      <td>4529.316663</td>\n",
              "      <td>43</td>\n",
              "      <td>1</td>\n",
              "      <td>1</td>\n",
              "      <td>F</td>\n",
              "      <td>компаньон</td>\n",
              "      <td>0</td>\n",
              "      <td>224791</td>\n",
              "      <td>B</td>\n",
              "      <td>операции с недвижимостью</td>\n",
              "    </tr>\n",
              "    <tr>\n",
              "      <th>21227</th>\n",
              "      <td>0</td>\n",
              "      <td>343937.404131</td>\n",
              "      <td>67</td>\n",
              "      <td>1</td>\n",
              "      <td>0</td>\n",
              "      <td>F</td>\n",
              "      <td>пенсионер</td>\n",
              "      <td>0</td>\n",
              "      <td>155999</td>\n",
              "      <td>C</td>\n",
              "      <td>операции с автомобилем</td>\n",
              "    </tr>\n",
              "    <tr>\n",
              "      <th>21228</th>\n",
              "      <td>1</td>\n",
              "      <td>2113.346888</td>\n",
              "      <td>38</td>\n",
              "      <td>1</td>\n",
              "      <td>1</td>\n",
              "      <td>M</td>\n",
              "      <td>сотрудник</td>\n",
              "      <td>1</td>\n",
              "      <td>89672</td>\n",
              "      <td>C</td>\n",
              "      <td>операции с недвижимостью</td>\n",
              "    </tr>\n",
              "    <tr>\n",
              "      <th>21229</th>\n",
              "      <td>3</td>\n",
              "      <td>3112.481705</td>\n",
              "      <td>38</td>\n",
              "      <td>1</td>\n",
              "      <td>0</td>\n",
              "      <td>M</td>\n",
              "      <td>сотрудник</td>\n",
              "      <td>1</td>\n",
              "      <td>244093</td>\n",
              "      <td>B</td>\n",
              "      <td>операции с автомобилем</td>\n",
              "    </tr>\n",
              "    <tr>\n",
              "      <th>21230</th>\n",
              "      <td>2</td>\n",
              "      <td>1984.507589</td>\n",
              "      <td>40</td>\n",
              "      <td>1</td>\n",
              "      <td>0</td>\n",
              "      <td>F</td>\n",
              "      <td>сотрудник</td>\n",
              "      <td>0</td>\n",
              "      <td>82047</td>\n",
              "      <td>C</td>\n",
              "      <td>операции с автомобилем</td>\n",
              "    </tr>\n",
              "  </tbody>\n",
              "</table>\n",
              "<p>21231 rows × 11 columns</p>\n",
              "</div>"
            ],
            "text/plain": [
              "       children  days_employed  dob_years  education_id  family_status_id  \\\n",
              "0             1    8437.673028         42             0                 0   \n",
              "1             1    4024.803754         36             1                 0   \n",
              "2             0    5623.422610         33             1                 0   \n",
              "3             3    4124.747207         32             1                 0   \n",
              "4             0  340266.072047         53             1                 1   \n",
              "...         ...            ...        ...           ...               ...   \n",
              "21226         1    4529.316663         43             1                 1   \n",
              "21227         0  343937.404131         67             1                 0   \n",
              "21228         1    2113.346888         38             1                 1   \n",
              "21229         3    3112.481705         38             1                 0   \n",
              "21230         2    1984.507589         40             1                 0   \n",
              "\n",
              "      gender income_type  debt  total_income total_income_category  \\\n",
              "0          F   сотрудник     0        253875                     B   \n",
              "1          F   сотрудник     0        112080                     C   \n",
              "2          M   сотрудник     0        145885                     C   \n",
              "3          M   сотрудник     0        267628                     B   \n",
              "4          F   пенсионер     0        158616                     C   \n",
              "...      ...         ...   ...           ...                   ...   \n",
              "21226      F   компаньон     0        224791                     B   \n",
              "21227      F   пенсионер     0        155999                     C   \n",
              "21228      M   сотрудник     1         89672                     C   \n",
              "21229      M   сотрудник     1        244093                     B   \n",
              "21230      F   сотрудник     0         82047                     C   \n",
              "\n",
              "               purpose_category  \n",
              "0      операции с недвижимостью  \n",
              "1        операции с автомобилем  \n",
              "2      операции с недвижимостью  \n",
              "3         получение образования  \n",
              "4            проведение свадьбы  \n",
              "...                         ...  \n",
              "21226  операции с недвижимостью  \n",
              "21227    операции с автомобилем  \n",
              "21228  операции с недвижимостью  \n",
              "21229    операции с автомобилем  \n",
              "21230    операции с автомобилем  \n",
              "\n",
              "[21231 rows x 11 columns]"
            ]
          },
          "metadata": {}
        }
      ],
      "id": "a75a0f97"
    },
    {
      "cell_type": "markdown",
      "source": "### Ответы на вопросы.",
      "metadata": {},
      "id": "f36dc335"
    },
    {
      "cell_type": "markdown",
      "source": "##### Вопрос 1: Есть ли зависимость между количеством детей и возвратом кредита в срок?",
      "metadata": {},
      "id": "4bec0331"
    },
    {
      "cell_type": "code",
      "source": "df_pivot1 = df.pivot_table(index=['debt'], columns='children', values = 'family_status_id', aggfunc='count')\nchild0 = df_pivot1[0][1] / df_pivot1[0][0]\nchild1 = df_pivot1[1][1] / df_pivot1[1][0]\nchild2 = df_pivot1[2][1] / df_pivot1[2][0]\nchild3 = df_pivot1[3][1] / df_pivot1[3][0]\nchild4 = df_pivot1[4][1] / df_pivot1[4][0]\n\nprint(\"{0:.2f}% Нет детей\".format(child0*100))\nprint(\"{0:.2f}% 1 Ребенок\".format(child1*100))\nprint(\"{0:.2f}% 2 Ребенка\".format(child2*100))\nprint(\"{0:.2f}% 3 Ребенка\".format(child3*100))\nprint(\"{0:.2f}% 4 Ребенка\".format(child4*100))",
      "metadata": {},
      "execution_count": 46,
      "outputs": [
        {
          "name": "stdout",
          "output_type": "stream",
          "text": "8.16% Нет детей\n\n10.14% 1 Ребенок\n\n10.51% 2 Ребенка\n\n8.97% 3 Ребенка\n\n10.81% 4 Ребенка\n"
        }
      ],
      "id": "0781c605"
    },
    {
      "cell_type": "markdown",
      "source": "##### Вывод 1:",
      "metadata": {},
      "id": "25409ec1"
    },
    {
      "cell_type": "markdown",
      "source": "Чем больше количество детей, тем больше количество просроченных платежей. ",
      "metadata": {},
      "id": "e7600c08"
    },
    {
      "cell_type": "markdown",
      "source": "##### Вопрос 2: Есть ли зависимость между семейным положением и возвратом кредита в срок?",
      "metadata": {},
      "id": "822ad106"
    },
    {
      "cell_type": "code",
      "source": "df_pivot2 = df.pivot_table(index=['debt'], columns='family_status', values='dob_years', aggfunc='count')\nno_family = df_pivot2['Не женат / не замужем'][1] / df_pivot2['Не женат / не замужем'][0]\ndivorce = df_pivot2['в разводе'][1] / df_pivot2['в разводе'][0]\nwidow = df_pivot2['вдовец / вдова'][1] / df_pivot2['вдовец / вдова'][0]\npartner = df_pivot2['гражданский брак'][1] / df_pivot2['гражданский брак'][0]\nfamily = df_pivot2['женат / замужем'][1] / df_pivot2['женат / замужем'][0]\nprint(\"{0:.2f}% Не женат / не замужем\".format(no_family*100))\nprint(\"{0:.2f}% в разводе\".format(divorce*100))\nprint(\"{0:.2f}% вдовец / вдова\".format(widow*100))\nprint(\"{0:.2f}% гражданский брак\".format(partner*100))\nprint(\"{0:.2f}% женат / замужем\".format(family*100))\n",
      "metadata": {},
      "execution_count": 47,
      "outputs": [
        {
          "name": "stdout",
          "output_type": "stream",
          "text": "10.85% Не женат / не замужем\n\n7.67% в разводе\n\n7.01% вдовец / вдова\n\n10.27% гражданский брак\n\n8.18% женат / замужем\n"
        }
      ],
      "id": "afce1bab"
    },
    {
      "cell_type": "markdown",
      "source": "##### Вывод 2:",
      "metadata": {},
      "id": "0c70d73f"
    },
    {
      "cell_type": "markdown",
      "source": " Не женатые/ Не замужние или люди в гражданском браке реже выплачивают кредит в срок.",
      "metadata": {},
      "id": "5ce96903"
    },
    {
      "cell_type": "markdown",
      "source": "##### Вопрос 3: Есть ли зависимость между уровнем дохода и возвратом кредита в срок?",
      "metadata": {},
      "id": "04f34846"
    },
    {
      "cell_type": "code",
      "source": "df_pivot3 = df1.pivot_table(index=['debt'], columns='total_income_category', values='dob_years', aggfunc='count')\nud1 = df_pivot3['E'][1] / df_pivot3['E'][0]\nud2 = df_pivot3['D'][1] / df_pivot3['D'][0]\nud3 = df_pivot3['C'][1] / df_pivot3['C'][0]\nud4 = df_pivot3['B'][1] / df_pivot3['B'][0]\nud5 = df_pivot3['A'][1] / df_pivot3['A'][0]\nprint('{0:.2f}% E'.format(ud1*100))\nprint(\"{0:.2f}% D\".format(ud2*100))\nprint(\"{0:.2f}% C\".format(ud3*100))\nprint(\"{0:.2f}% B\".format(ud4*100))\nprint(\"{0:.2f}% A\".format(ud5*100))",
      "metadata": {},
      "execution_count": 48,
      "outputs": [
        {
          "name": "stdout",
          "output_type": "stream",
          "text": "10.00% E\n\n6.44% D\n\n9.28% C\n\n7.62% B\n\n8.70% A\n"
        }
      ],
      "id": "f04d05f2"
    },
    {
      "cell_type": "markdown",
      "source": "##### Вывод 3:",
      "metadata": {},
      "id": "eb0a8831"
    },
    {
      "cell_type": "markdown",
      "source": "Люди с наименьшим доходом чаще других групп выплачивают кредит в срок.",
      "metadata": {},
      "id": "ba9d5019"
    },
    {
      "cell_type": "markdown",
      "source": "##### Вопрос 4: Как разные цели кредита влияют на его возврат в срок?",
      "metadata": {},
      "id": "24749fae"
    },
    {
      "cell_type": "code",
      "source": "df_pivot4 =df1.pivot_table(index=['debt'], columns='purpose_category', values='dob_years', aggfunc='count')\nck1 = df_pivot4['операции с автомобилем'][1] / df_pivot4['операции с автомобилем'][0]\nck2 = df_pivot4['операции с недвижимостью'][1] / df_pivot4['операции с недвижимостью'][0]\nck3 = df_pivot4['получение образования'][1] / df_pivot4['получение образования'][0]\nck4 = df_pivot4['проведение свадьбы'][1] / df_pivot4['проведение свадьбы'][0]\nprint(\"{0:.2f}% операции с автомобилем\".format(ck1*100))\nprint(\"{0:.2f}% операции с недвижимостью\".format(ck2*100))\nprint(\"{0:.2f}% получение образования\".format(ck3*100))\nprint(\"{0:.2f}% проведение свадьбы\".format(ck4*100))",
      "metadata": {},
      "execution_count": 49,
      "outputs": [
        {
          "name": "stdout",
          "output_type": "stream",
          "text": "10.28% операции с автомобилем\n\n7.83% операции с недвижимостью\n\n10.25% получение образования\n\n8.55% проведение свадьбы\n"
        }
      ],
      "id": "27a233be"
    },
    {
      "cell_type": "markdown",
      "source": "##### Вывод 4:",
      "metadata": {},
      "id": "df879ca3"
    },
    {
      "cell_type": "markdown",
      "source": "Люди с большей вероятностью выплачивают кредит, если он взят на операции с недвижимостью.",
      "metadata": {},
      "id": "be919766"
    },
    {
      "cell_type": "markdown",
      "source": "## Общий вывод:",
      "metadata": {},
      "id": "229bea5c"
    },
    {
      "cell_type": "markdown",
      "source": "Общий вывод - семейный статус влияет на вероятность платежей по кредиту в срок - Не женатые/ Не замужние или люди в гражданском браке реже выплачивают кредит в срок. Чем больше детей, тем чаще платят не в срок, исключением являются пары с 3мя детьми. Возможно предоставленных данных не достаточно для корректкной оценки.",
      "metadata": {},
      "id": "3903c686"
    }
  ]
}